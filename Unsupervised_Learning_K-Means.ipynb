{
 "cells": [
  {
   "cell_type": "markdown",
   "metadata": {
    "id": "XMqqfWv0wUNZ"
   },
   "source": [
    "# **1. Introduction**\n",
    "\n",
    "Understanding customers (their similarities and their differences) is one of the most fundamental and important steps in quantifying the customers’ relationship with a product and the company.\n",
    "\n",
    "Customer segmentation is a useful marketing tool for businesses that can help them improve their product or service, marketing strategy, and profitability.\n",
    "\n",
    "Therefore, this analysis will segment customers so that a company can target them efficiently.\n",
    "\n"
   ]
  },
  {
   "cell_type": "markdown",
   "metadata": {
    "id": "IwPxKy9Nwwqk"
   },
   "source": [
    "---\n",
    "\n",
    "# **2. Data**\n",
    "\n",
    "The original dataset is called *online_retail_II* and was downloaded from Kaggle website [Online Retail II UCI](https://www.kaggle.com/mashlyn/online-retail-ii-uci). \n",
    "\n",
    "The dataset contains all the transactions of an online retail store between 01-12-2009 and 09-12-2011."
   ]
  },
  {
   "cell_type": "markdown",
   "metadata": {
    "id": "DZsE3XBN7Y46"
   },
   "source": [
    "**Load the Dataset**\n",
    "\n"
   ]
  },
  {
   "cell_type": "code",
   "execution_count": 1,
   "metadata": {
    "id": "OCdeQvgA6my6"
   },
   "outputs": [],
   "source": [
    "# Import the relevant libraries\n",
    "\n",
    "import numpy as np\n",
    "import pandas as pd\n",
    "import matplotlib.pyplot as plt\n",
    "from sklearn.preprocessing import StandardScaler\n",
    "from sklearn.cluster import KMeans, MiniBatchKMeans\n",
    "from sklearn import datasets\n",
    "from sklearn import metrics\n",
    "import datetime as dt\n",
    "import scipy.stats as stats\n",
    "from sklearn.decomposition import PCA"
   ]
  },
  {
   "cell_type": "code",
   "execution_count": 2,
   "metadata": {},
   "outputs": [],
   "source": [
    "# Read the raw data from the source into a DataFrame\n",
    "df = pd.read_csv(\"online_retail.csv\", header=0, sep=',', quotechar='\"')"
   ]
  },
  {
   "cell_type": "markdown",
   "metadata": {
    "id": "nsc7v7DS7nhd"
   },
   "source": [
    "\n",
    "\n",
    "---\n",
    "\n",
    "\n",
    "# **3. Methodology**"
   ]
  },
  {
   "cell_type": "markdown",
   "metadata": {
    "id": "KMEKKNWU7sAh"
   },
   "source": [
    "### **Exploratory Data Analysis (EDA)**\n",
    "\n",
    "In this step, I will apply statistics and visualization techniques to gain a better understanding of the dataset and I will also eliminate any problems from the dataset which would prevent further analysis."
   ]
  },
  {
   "cell_type": "code",
   "execution_count": 3,
   "metadata": {
    "colab": {
     "base_uri": "https://localhost:8080/"
    },
    "id": "5Iij-pwB6zuI",
    "outputId": "12b9d093-8f80-4861-83c5-7abb2c2aaf60"
   },
   "outputs": [
    {
     "name": "stdout",
     "output_type": "stream",
     "text": [
      "<class 'pandas.core.frame.DataFrame'>\n",
      "RangeIndex: 1067371 entries, 0 to 1067370\n",
      "Data columns (total 8 columns):\n",
      " #   Column       Non-Null Count    Dtype  \n",
      "---  ------       --------------    -----  \n",
      " 0   Invoice      1067371 non-null  object \n",
      " 1   StockCode    1067371 non-null  object \n",
      " 2   Description  1062989 non-null  object \n",
      " 3   Quantity     1067371 non-null  int64  \n",
      " 4   InvoiceDate  1067371 non-null  object \n",
      " 5   Price        1067371 non-null  float64\n",
      " 6   Customer ID  824364 non-null   float64\n",
      " 7   Country      1067371 non-null  object \n",
      "dtypes: float64(2), int64(1), object(5)\n",
      "memory usage: 65.1+ MB\n"
     ]
    }
   ],
   "source": [
    "# Use the info() function to get an understanding of the DataFrame\n",
    "df.info()"
   ]
  },
  {
   "cell_type": "markdown",
   "metadata": {
    "id": "Ul5c5r-17zRT"
   },
   "source": [
    "It can be seen from the output that this dataset contains 1,067,371 data points and 8 variables.\n",
    "\n",
    "There are some missing values.\n",
    "\n",
    "Moreover, 1 field is integer, 5 are objects (strings) and 2 are floats. The essential difference between these variable types is that continuous variables can take a potentially unlimited number of values, while categorical variables can take only a limited number of categories as their values."
   ]
  },
  {
   "cell_type": "code",
   "execution_count": 4,
   "metadata": {
    "colab": {
     "base_uri": "https://localhost:8080/",
     "height": 195
    },
    "id": "EtKo6w497w1W",
    "outputId": "4d4ba437-6e52-48ea-ac18-fe69578f9026"
   },
   "outputs": [
    {
     "data": {
      "text/html": [
       "<div>\n",
       "<style scoped>\n",
       "    .dataframe tbody tr th:only-of-type {\n",
       "        vertical-align: middle;\n",
       "    }\n",
       "\n",
       "    .dataframe tbody tr th {\n",
       "        vertical-align: top;\n",
       "    }\n",
       "\n",
       "    .dataframe thead th {\n",
       "        text-align: right;\n",
       "    }\n",
       "</style>\n",
       "<table border=\"1\" class=\"dataframe\">\n",
       "  <thead>\n",
       "    <tr style=\"text-align: right;\">\n",
       "      <th></th>\n",
       "      <th>Invoice</th>\n",
       "      <th>StockCode</th>\n",
       "      <th>Description</th>\n",
       "      <th>Quantity</th>\n",
       "      <th>InvoiceDate</th>\n",
       "      <th>Price</th>\n",
       "      <th>Customer ID</th>\n",
       "      <th>Country</th>\n",
       "    </tr>\n",
       "  </thead>\n",
       "  <tbody>\n",
       "    <tr>\n",
       "      <th>0</th>\n",
       "      <td>489434</td>\n",
       "      <td>85048</td>\n",
       "      <td>15CM CHRISTMAS GLASS BALL 20 LIGHTS</td>\n",
       "      <td>12</td>\n",
       "      <td>2009-12-01 07:45:00</td>\n",
       "      <td>6.95</td>\n",
       "      <td>13085.0</td>\n",
       "      <td>United Kingdom</td>\n",
       "    </tr>\n",
       "    <tr>\n",
       "      <th>1</th>\n",
       "      <td>489434</td>\n",
       "      <td>79323P</td>\n",
       "      <td>PINK CHERRY LIGHTS</td>\n",
       "      <td>12</td>\n",
       "      <td>2009-12-01 07:45:00</td>\n",
       "      <td>6.75</td>\n",
       "      <td>13085.0</td>\n",
       "      <td>United Kingdom</td>\n",
       "    </tr>\n",
       "    <tr>\n",
       "      <th>2</th>\n",
       "      <td>489434</td>\n",
       "      <td>79323W</td>\n",
       "      <td>WHITE CHERRY LIGHTS</td>\n",
       "      <td>12</td>\n",
       "      <td>2009-12-01 07:45:00</td>\n",
       "      <td>6.75</td>\n",
       "      <td>13085.0</td>\n",
       "      <td>United Kingdom</td>\n",
       "    </tr>\n",
       "    <tr>\n",
       "      <th>3</th>\n",
       "      <td>489434</td>\n",
       "      <td>22041</td>\n",
       "      <td>RECORD FRAME 7\" SINGLE SIZE</td>\n",
       "      <td>48</td>\n",
       "      <td>2009-12-01 07:45:00</td>\n",
       "      <td>2.10</td>\n",
       "      <td>13085.0</td>\n",
       "      <td>United Kingdom</td>\n",
       "    </tr>\n",
       "    <tr>\n",
       "      <th>4</th>\n",
       "      <td>489434</td>\n",
       "      <td>21232</td>\n",
       "      <td>STRAWBERRY CERAMIC TRINKET BOX</td>\n",
       "      <td>24</td>\n",
       "      <td>2009-12-01 07:45:00</td>\n",
       "      <td>1.25</td>\n",
       "      <td>13085.0</td>\n",
       "      <td>United Kingdom</td>\n",
       "    </tr>\n",
       "  </tbody>\n",
       "</table>\n",
       "</div>"
      ],
      "text/plain": [
       "  Invoice StockCode                          Description  Quantity  \\\n",
       "0  489434     85048  15CM CHRISTMAS GLASS BALL 20 LIGHTS        12   \n",
       "1  489434    79323P                   PINK CHERRY LIGHTS        12   \n",
       "2  489434    79323W                  WHITE CHERRY LIGHTS        12   \n",
       "3  489434     22041         RECORD FRAME 7\" SINGLE SIZE         48   \n",
       "4  489434     21232       STRAWBERRY CERAMIC TRINKET BOX        24   \n",
       "\n",
       "           InvoiceDate  Price  Customer ID         Country  \n",
       "0  2009-12-01 07:45:00   6.95      13085.0  United Kingdom  \n",
       "1  2009-12-01 07:45:00   6.75      13085.0  United Kingdom  \n",
       "2  2009-12-01 07:45:00   6.75      13085.0  United Kingdom  \n",
       "3  2009-12-01 07:45:00   2.10      13085.0  United Kingdom  \n",
       "4  2009-12-01 07:45:00   1.25      13085.0  United Kingdom  "
      ]
     },
     "execution_count": 4,
     "metadata": {},
     "output_type": "execute_result"
    }
   ],
   "source": [
    "# Print the first 5 rows of the DataFrame\n",
    "df.head()"
   ]
  },
  {
   "cell_type": "code",
   "execution_count": 5,
   "metadata": {
    "colab": {
     "base_uri": "https://localhost:8080/"
    },
    "id": "SVf2pyz795Qu",
    "outputId": "f71e95b4-e716-43bf-991a-367f41d60964"
   },
   "outputs": [
    {
     "data": {
      "text/plain": [
       "Invoice        53628\n",
       "StockCode       5305\n",
       "Description     5698\n",
       "Quantity        1057\n",
       "InvoiceDate    47635\n",
       "Price           2807\n",
       "Customer ID     5942\n",
       "Country           43\n",
       "dtype: int64"
      ]
     },
     "execution_count": 5,
     "metadata": {},
     "output_type": "execute_result"
    }
   ],
   "source": [
    "df.nunique()"
   ]
  },
  {
   "cell_type": "markdown",
   "metadata": {
    "id": "2x1UrpJN_E2g"
   },
   "source": [
    "**Detecting Missing Values**"
   ]
  },
  {
   "cell_type": "code",
   "execution_count": 6,
   "metadata": {
    "colab": {
     "base_uri": "https://localhost:8080/",
     "height": 284
    },
    "id": "jYeYFfJm-xKA",
    "outputId": "f971b190-7ed3-4867-c7d9-76bc8373995e"
   },
   "outputs": [
    {
     "data": {
      "text/html": [
       "<div>\n",
       "<style scoped>\n",
       "    .dataframe tbody tr th:only-of-type {\n",
       "        vertical-align: middle;\n",
       "    }\n",
       "\n",
       "    .dataframe tbody tr th {\n",
       "        vertical-align: top;\n",
       "    }\n",
       "\n",
       "    .dataframe thead th {\n",
       "        text-align: right;\n",
       "    }\n",
       "</style>\n",
       "<table border=\"1\" class=\"dataframe\">\n",
       "  <thead>\n",
       "    <tr style=\"text-align: right;\">\n",
       "      <th></th>\n",
       "      <th>Total</th>\n",
       "      <th>Percent</th>\n",
       "    </tr>\n",
       "  </thead>\n",
       "  <tbody>\n",
       "    <tr>\n",
       "      <th>Customer ID</th>\n",
       "      <td>243007</td>\n",
       "      <td>22.766873</td>\n",
       "    </tr>\n",
       "    <tr>\n",
       "      <th>Description</th>\n",
       "      <td>4382</td>\n",
       "      <td>0.410541</td>\n",
       "    </tr>\n",
       "    <tr>\n",
       "      <th>Invoice</th>\n",
       "      <td>0</td>\n",
       "      <td>0.000000</td>\n",
       "    </tr>\n",
       "    <tr>\n",
       "      <th>StockCode</th>\n",
       "      <td>0</td>\n",
       "      <td>0.000000</td>\n",
       "    </tr>\n",
       "    <tr>\n",
       "      <th>Quantity</th>\n",
       "      <td>0</td>\n",
       "      <td>0.000000</td>\n",
       "    </tr>\n",
       "    <tr>\n",
       "      <th>InvoiceDate</th>\n",
       "      <td>0</td>\n",
       "      <td>0.000000</td>\n",
       "    </tr>\n",
       "    <tr>\n",
       "      <th>Price</th>\n",
       "      <td>0</td>\n",
       "      <td>0.000000</td>\n",
       "    </tr>\n",
       "    <tr>\n",
       "      <th>Country</th>\n",
       "      <td>0</td>\n",
       "      <td>0.000000</td>\n",
       "    </tr>\n",
       "  </tbody>\n",
       "</table>\n",
       "</div>"
      ],
      "text/plain": [
       "              Total    Percent\n",
       "Customer ID  243007  22.766873\n",
       "Description    4382   0.410541\n",
       "Invoice           0   0.000000\n",
       "StockCode         0   0.000000\n",
       "Quantity          0   0.000000\n",
       "InvoiceDate       0   0.000000\n",
       "Price             0   0.000000\n",
       "Country           0   0.000000"
      ]
     },
     "execution_count": 6,
     "metadata": {},
     "output_type": "execute_result"
    }
   ],
   "source": [
    "total_missing = df.isnull().sum().sort_values(ascending=False)\n",
    "percent_missing = df.isnull().sum()*100/df.isnull().count()\n",
    "\n",
    "missing_data = pd.concat([total_missing, percent_missing], axis=1, keys=[\"Total\", \"Percent\"])\n",
    "\n",
    "missing_data"
   ]
  },
  {
   "cell_type": "markdown",
   "metadata": {
    "id": "STSlFct2Jyff"
   },
   "source": [
    "From the output, we can see that Customer ID and Description have some missing values. "
   ]
  },
  {
   "cell_type": "markdown",
   "metadata": {
    "id": "j68dVloKKXOe"
   },
   "source": [
    "**Handling Missing Values**\n",
    "\n",
    "Customer ID is a continuos variable (can take an unlimited number of different values). If I remove its missing values I would lose 22.7% of the data which is not ideal. However, I'll be grouping by Cusomer ID later in the analysis, thus, I will remove the missing values. \n",
    "\n",
    "Description, which represents the name of the product, is a categorical variable. Thus, I will create a new category for the its missing values: Unknown."
   ]
  },
  {
   "cell_type": "code",
   "execution_count": 7,
   "metadata": {
    "id": "L9HJcx71maCV"
   },
   "outputs": [],
   "source": [
    "# Fill in missing values of Description with pandas fillna() function\n",
    "df[\"Description\"].fillna(\"Unknown\", inplace=True)\n",
    "\n",
    "# Drop missing values of Customer ID\n",
    "df.dropna(axis=0, inplace=True)\n"
   ]
  },
  {
   "cell_type": "code",
   "execution_count": 8,
   "metadata": {
    "colab": {
     "base_uri": "https://localhost:8080/",
     "height": 284
    },
    "id": "9l0Hft6zoLD1",
    "outputId": "c7dc89d1-2944-4101-81a0-d9e5ebefe48d"
   },
   "outputs": [
    {
     "data": {
      "text/html": [
       "<div>\n",
       "<style scoped>\n",
       "    .dataframe tbody tr th:only-of-type {\n",
       "        vertical-align: middle;\n",
       "    }\n",
       "\n",
       "    .dataframe tbody tr th {\n",
       "        vertical-align: top;\n",
       "    }\n",
       "\n",
       "    .dataframe thead th {\n",
       "        text-align: right;\n",
       "    }\n",
       "</style>\n",
       "<table border=\"1\" class=\"dataframe\">\n",
       "  <thead>\n",
       "    <tr style=\"text-align: right;\">\n",
       "      <th></th>\n",
       "      <th>Total</th>\n",
       "      <th>Percent</th>\n",
       "    </tr>\n",
       "  </thead>\n",
       "  <tbody>\n",
       "    <tr>\n",
       "      <th>Invoice</th>\n",
       "      <td>0</td>\n",
       "      <td>0.0</td>\n",
       "    </tr>\n",
       "    <tr>\n",
       "      <th>StockCode</th>\n",
       "      <td>0</td>\n",
       "      <td>0.0</td>\n",
       "    </tr>\n",
       "    <tr>\n",
       "      <th>Description</th>\n",
       "      <td>0</td>\n",
       "      <td>0.0</td>\n",
       "    </tr>\n",
       "    <tr>\n",
       "      <th>Quantity</th>\n",
       "      <td>0</td>\n",
       "      <td>0.0</td>\n",
       "    </tr>\n",
       "    <tr>\n",
       "      <th>InvoiceDate</th>\n",
       "      <td>0</td>\n",
       "      <td>0.0</td>\n",
       "    </tr>\n",
       "    <tr>\n",
       "      <th>Price</th>\n",
       "      <td>0</td>\n",
       "      <td>0.0</td>\n",
       "    </tr>\n",
       "    <tr>\n",
       "      <th>Customer ID</th>\n",
       "      <td>0</td>\n",
       "      <td>0.0</td>\n",
       "    </tr>\n",
       "    <tr>\n",
       "      <th>Country</th>\n",
       "      <td>0</td>\n",
       "      <td>0.0</td>\n",
       "    </tr>\n",
       "  </tbody>\n",
       "</table>\n",
       "</div>"
      ],
      "text/plain": [
       "             Total  Percent\n",
       "Invoice          0      0.0\n",
       "StockCode        0      0.0\n",
       "Description      0      0.0\n",
       "Quantity         0      0.0\n",
       "InvoiceDate      0      0.0\n",
       "Price            0      0.0\n",
       "Customer ID      0      0.0\n",
       "Country          0      0.0"
      ]
     },
     "execution_count": 8,
     "metadata": {},
     "output_type": "execute_result"
    }
   ],
   "source": [
    "# Verify whether we handled all missing values\n",
    "total_missing = df.isnull().sum().sort_values(ascending=False)\n",
    "percent_missing = df.isnull().sum()*100/df.isnull().count()\n",
    "\n",
    "missing_data = pd.concat([total_missing, percent_missing], axis=1, keys=[\"Total\", \"Percent\"])\n",
    "\n",
    "missing_data"
   ]
  },
  {
   "cell_type": "code",
   "execution_count": 9,
   "metadata": {
    "colab": {
     "base_uri": "https://localhost:8080/",
     "height": 284
    },
    "id": "dlggp32IQxPD",
    "outputId": "9d698646-e1d5-4a0d-80ca-cb87838ff5a9"
   },
   "outputs": [
    {
     "data": {
      "text/html": [
       "<div>\n",
       "<style scoped>\n",
       "    .dataframe tbody tr th:only-of-type {\n",
       "        vertical-align: middle;\n",
       "    }\n",
       "\n",
       "    .dataframe tbody tr th {\n",
       "        vertical-align: top;\n",
       "    }\n",
       "\n",
       "    .dataframe thead th {\n",
       "        text-align: right;\n",
       "    }\n",
       "</style>\n",
       "<table border=\"1\" class=\"dataframe\">\n",
       "  <thead>\n",
       "    <tr style=\"text-align: right;\">\n",
       "      <th></th>\n",
       "      <th>Quantity</th>\n",
       "      <th>Price</th>\n",
       "      <th>Customer ID</th>\n",
       "    </tr>\n",
       "  </thead>\n",
       "  <tbody>\n",
       "    <tr>\n",
       "      <th>count</th>\n",
       "      <td>824364.000000</td>\n",
       "      <td>824364.000000</td>\n",
       "      <td>824364.000000</td>\n",
       "    </tr>\n",
       "    <tr>\n",
       "      <th>mean</th>\n",
       "      <td>12.414574</td>\n",
       "      <td>3.676800</td>\n",
       "      <td>15324.638504</td>\n",
       "    </tr>\n",
       "    <tr>\n",
       "      <th>std</th>\n",
       "      <td>188.976099</td>\n",
       "      <td>70.241388</td>\n",
       "      <td>1697.464450</td>\n",
       "    </tr>\n",
       "    <tr>\n",
       "      <th>min</th>\n",
       "      <td>-80995.000000</td>\n",
       "      <td>0.000000</td>\n",
       "      <td>12346.000000</td>\n",
       "    </tr>\n",
       "    <tr>\n",
       "      <th>25%</th>\n",
       "      <td>2.000000</td>\n",
       "      <td>1.250000</td>\n",
       "      <td>13975.000000</td>\n",
       "    </tr>\n",
       "    <tr>\n",
       "      <th>50%</th>\n",
       "      <td>5.000000</td>\n",
       "      <td>1.950000</td>\n",
       "      <td>15255.000000</td>\n",
       "    </tr>\n",
       "    <tr>\n",
       "      <th>75%</th>\n",
       "      <td>12.000000</td>\n",
       "      <td>3.750000</td>\n",
       "      <td>16797.000000</td>\n",
       "    </tr>\n",
       "    <tr>\n",
       "      <th>max</th>\n",
       "      <td>80995.000000</td>\n",
       "      <td>38970.000000</td>\n",
       "      <td>18287.000000</td>\n",
       "    </tr>\n",
       "  </tbody>\n",
       "</table>\n",
       "</div>"
      ],
      "text/plain": [
       "            Quantity          Price    Customer ID\n",
       "count  824364.000000  824364.000000  824364.000000\n",
       "mean       12.414574       3.676800   15324.638504\n",
       "std       188.976099      70.241388    1697.464450\n",
       "min    -80995.000000       0.000000   12346.000000\n",
       "25%         2.000000       1.250000   13975.000000\n",
       "50%         5.000000       1.950000   15255.000000\n",
       "75%        12.000000       3.750000   16797.000000\n",
       "max     80995.000000   38970.000000   18287.000000"
      ]
     },
     "execution_count": 9,
     "metadata": {},
     "output_type": "execute_result"
    }
   ],
   "source": [
    "# Get univariate statistics to \n",
    "# summarize the central tendency, dispersion, \n",
    "# and shape of a dataset’s distribution\n",
    "df.describe()"
   ]
  },
  {
   "cell_type": "code",
   "execution_count": 10,
   "metadata": {
    "colab": {
     "base_uri": "https://localhost:8080/",
     "height": 281
    },
    "id": "yxrWk4acYb7f",
    "outputId": "75ae5e01-d54a-46a3-b1ec-2d4ae2b14262"
   },
   "outputs": [
    {
     "data": {
      "image/png": "[encoded data removed]",
      "text/plain": [
       "<Figure size 432x288 with 1 Axes>"
      ]
     },
     "metadata": {
      "needs_background": "light"
     },
     "output_type": "display_data"
    }
   ],
   "source": [
    "plt.hist(df[\"Quantity\"])\n",
    "plt.title(\"Histomgram of Quantity\")\n",
    "plt.show()"
   ]
  },
  {
   "cell_type": "code",
   "execution_count": 11,
   "metadata": {
    "colab": {
     "base_uri": "https://localhost:8080/"
    },
    "id": "jQ8eB8xdS146",
    "outputId": "25847d37-9978-46d0-b724-854100e597d5"
   },
   "outputs": [
    {
     "data": {
      "text/plain": [
       "False    805620\n",
       "True      18744\n",
       "Name: Quantity, dtype: int64"
      ]
     },
     "execution_count": 11,
     "metadata": {},
     "output_type": "execute_result"
    }
   ],
   "source": [
    "# Count negative values in Quantity\n",
    "quantity_negative = df[\"Quantity\"] < 0\n",
    "quantity_negative.value_counts()"
   ]
  },
  {
   "cell_type": "code",
   "execution_count": 12,
   "metadata": {
    "colab": {
     "base_uri": "https://localhost:8080/",
     "height": 402
    },
    "id": "fQMFzxUVcQdY",
    "outputId": "272df151-0432-4812-c3a7-7b64775f6a0b"
   },
   "outputs": [
    {
     "data": {
      "text/html": [
       "<div>\n",
       "<style scoped>\n",
       "    .dataframe tbody tr th:only-of-type {\n",
       "        vertical-align: middle;\n",
       "    }\n",
       "\n",
       "    .dataframe tbody tr th {\n",
       "        vertical-align: top;\n",
       "    }\n",
       "\n",
       "    .dataframe thead th {\n",
       "        text-align: right;\n",
       "    }\n",
       "</style>\n",
       "<table border=\"1\" class=\"dataframe\">\n",
       "  <thead>\n",
       "    <tr style=\"text-align: right;\">\n",
       "      <th></th>\n",
       "      <th>Invoice</th>\n",
       "      <th>StockCode</th>\n",
       "      <th>Description</th>\n",
       "      <th>Quantity</th>\n",
       "      <th>InvoiceDate</th>\n",
       "      <th>Price</th>\n",
       "      <th>Customer ID</th>\n",
       "      <th>Country</th>\n",
       "    </tr>\n",
       "  </thead>\n",
       "  <tbody>\n",
       "    <tr>\n",
       "      <th>178</th>\n",
       "      <td>C489449</td>\n",
       "      <td>22087</td>\n",
       "      <td>PAPER BUNTING WHITE LACE</td>\n",
       "      <td>-12</td>\n",
       "      <td>2009-12-01 10:33:00</td>\n",
       "      <td>2.95</td>\n",
       "      <td>16321.0</td>\n",
       "      <td>Australia</td>\n",
       "    </tr>\n",
       "    <tr>\n",
       "      <th>179</th>\n",
       "      <td>C489449</td>\n",
       "      <td>85206A</td>\n",
       "      <td>CREAM FELT EASTER EGG BASKET</td>\n",
       "      <td>-6</td>\n",
       "      <td>2009-12-01 10:33:00</td>\n",
       "      <td>1.65</td>\n",
       "      <td>16321.0</td>\n",
       "      <td>Australia</td>\n",
       "    </tr>\n",
       "    <tr>\n",
       "      <th>180</th>\n",
       "      <td>C489449</td>\n",
       "      <td>21895</td>\n",
       "      <td>POTTING SHED SOW 'N' GROW SET</td>\n",
       "      <td>-4</td>\n",
       "      <td>2009-12-01 10:33:00</td>\n",
       "      <td>4.25</td>\n",
       "      <td>16321.0</td>\n",
       "      <td>Australia</td>\n",
       "    </tr>\n",
       "    <tr>\n",
       "      <th>181</th>\n",
       "      <td>C489449</td>\n",
       "      <td>21896</td>\n",
       "      <td>POTTING SHED TWINE</td>\n",
       "      <td>-6</td>\n",
       "      <td>2009-12-01 10:33:00</td>\n",
       "      <td>2.10</td>\n",
       "      <td>16321.0</td>\n",
       "      <td>Australia</td>\n",
       "    </tr>\n",
       "    <tr>\n",
       "      <th>182</th>\n",
       "      <td>C489449</td>\n",
       "      <td>22083</td>\n",
       "      <td>PAPER CHAIN KIT RETRO SPOT</td>\n",
       "      <td>-12</td>\n",
       "      <td>2009-12-01 10:33:00</td>\n",
       "      <td>2.95</td>\n",
       "      <td>16321.0</td>\n",
       "      <td>Australia</td>\n",
       "    </tr>\n",
       "    <tr>\n",
       "      <th>...</th>\n",
       "      <td>...</td>\n",
       "      <td>...</td>\n",
       "      <td>...</td>\n",
       "      <td>...</td>\n",
       "      <td>...</td>\n",
       "      <td>...</td>\n",
       "      <td>...</td>\n",
       "      <td>...</td>\n",
       "    </tr>\n",
       "    <tr>\n",
       "      <th>1065910</th>\n",
       "      <td>C581490</td>\n",
       "      <td>23144</td>\n",
       "      <td>ZINC T-LIGHT HOLDER STARS SMALL</td>\n",
       "      <td>-11</td>\n",
       "      <td>2011-12-09 09:57:00</td>\n",
       "      <td>0.83</td>\n",
       "      <td>14397.0</td>\n",
       "      <td>United Kingdom</td>\n",
       "    </tr>\n",
       "    <tr>\n",
       "      <th>1067002</th>\n",
       "      <td>C581499</td>\n",
       "      <td>M</td>\n",
       "      <td>Manual</td>\n",
       "      <td>-1</td>\n",
       "      <td>2011-12-09 10:28:00</td>\n",
       "      <td>224.69</td>\n",
       "      <td>15498.0</td>\n",
       "      <td>United Kingdom</td>\n",
       "    </tr>\n",
       "    <tr>\n",
       "      <th>1067176</th>\n",
       "      <td>C581568</td>\n",
       "      <td>21258</td>\n",
       "      <td>VICTORIAN SEWING BOX LARGE</td>\n",
       "      <td>-5</td>\n",
       "      <td>2011-12-09 11:57:00</td>\n",
       "      <td>10.95</td>\n",
       "      <td>15311.0</td>\n",
       "      <td>United Kingdom</td>\n",
       "    </tr>\n",
       "    <tr>\n",
       "      <th>1067177</th>\n",
       "      <td>C581569</td>\n",
       "      <td>84978</td>\n",
       "      <td>HANGING HEART JAR T-LIGHT HOLDER</td>\n",
       "      <td>-1</td>\n",
       "      <td>2011-12-09 11:58:00</td>\n",
       "      <td>1.25</td>\n",
       "      <td>17315.0</td>\n",
       "      <td>United Kingdom</td>\n",
       "    </tr>\n",
       "    <tr>\n",
       "      <th>1067178</th>\n",
       "      <td>C581569</td>\n",
       "      <td>20979</td>\n",
       "      <td>36 PENCILS TUBE RED RETROSPOT</td>\n",
       "      <td>-5</td>\n",
       "      <td>2011-12-09 11:58:00</td>\n",
       "      <td>1.25</td>\n",
       "      <td>17315.0</td>\n",
       "      <td>United Kingdom</td>\n",
       "    </tr>\n",
       "  </tbody>\n",
       "</table>\n",
       "<p>18744 rows × 8 columns</p>\n",
       "</div>"
      ],
      "text/plain": [
       "         Invoice StockCode                       Description  Quantity  \\\n",
       "178      C489449     22087          PAPER BUNTING WHITE LACE       -12   \n",
       "179      C489449    85206A      CREAM FELT EASTER EGG BASKET        -6   \n",
       "180      C489449     21895     POTTING SHED SOW 'N' GROW SET        -4   \n",
       "181      C489449     21896                POTTING SHED TWINE        -6   \n",
       "182      C489449     22083        PAPER CHAIN KIT RETRO SPOT       -12   \n",
       "...          ...       ...                               ...       ...   \n",
       "1065910  C581490     23144   ZINC T-LIGHT HOLDER STARS SMALL       -11   \n",
       "1067002  C581499         M                            Manual        -1   \n",
       "1067176  C581568     21258        VICTORIAN SEWING BOX LARGE        -5   \n",
       "1067177  C581569     84978  HANGING HEART JAR T-LIGHT HOLDER        -1   \n",
       "1067178  C581569     20979     36 PENCILS TUBE RED RETROSPOT        -5   \n",
       "\n",
       "                 InvoiceDate   Price  Customer ID         Country  \n",
       "178      2009-12-01 10:33:00    2.95      16321.0       Australia  \n",
       "179      2009-12-01 10:33:00    1.65      16321.0       Australia  \n",
       "180      2009-12-01 10:33:00    4.25      16321.0       Australia  \n",
       "181      2009-12-01 10:33:00    2.10      16321.0       Australia  \n",
       "182      2009-12-01 10:33:00    2.95      16321.0       Australia  \n",
       "...                      ...     ...          ...             ...  \n",
       "1065910  2011-12-09 09:57:00    0.83      14397.0  United Kingdom  \n",
       "1067002  2011-12-09 10:28:00  224.69      15498.0  United Kingdom  \n",
       "1067176  2011-12-09 11:57:00   10.95      15311.0  United Kingdom  \n",
       "1067177  2011-12-09 11:58:00    1.25      17315.0  United Kingdom  \n",
       "1067178  2011-12-09 11:58:00    1.25      17315.0  United Kingdom  \n",
       "\n",
       "[18744 rows x 8 columns]"
      ]
     },
     "execution_count": 12,
     "metadata": {},
     "output_type": "execute_result"
    }
   ],
   "source": [
    "df.iloc[quantity_negative.values]"
   ]
  },
  {
   "cell_type": "code",
   "execution_count": 13,
   "metadata": {},
   "outputs": [
    {
     "data": {
      "text/plain": [
       "False    824293\n",
       "True         71\n",
       "Name: Price, dtype: int64"
      ]
     },
     "execution_count": 13,
     "metadata": {},
     "output_type": "execute_result"
    }
   ],
   "source": [
    "# Count zero values in Price\n",
    "zeros = df[\"Price\"] == 0\n",
    "zeros.value_counts()"
   ]
  },
  {
   "cell_type": "code",
   "execution_count": 14,
   "metadata": {},
   "outputs": [
    {
     "data": {
      "text/html": [
       "<div>\n",
       "<style scoped>\n",
       "    .dataframe tbody tr th:only-of-type {\n",
       "        vertical-align: middle;\n",
       "    }\n",
       "\n",
       "    .dataframe tbody tr th {\n",
       "        vertical-align: top;\n",
       "    }\n",
       "\n",
       "    .dataframe thead th {\n",
       "        text-align: right;\n",
       "    }\n",
       "</style>\n",
       "<table border=\"1\" class=\"dataframe\">\n",
       "  <thead>\n",
       "    <tr style=\"text-align: right;\">\n",
       "      <th></th>\n",
       "      <th>Invoice</th>\n",
       "      <th>StockCode</th>\n",
       "      <th>Description</th>\n",
       "      <th>Quantity</th>\n",
       "      <th>InvoiceDate</th>\n",
       "      <th>Price</th>\n",
       "      <th>Customer ID</th>\n",
       "      <th>Country</th>\n",
       "    </tr>\n",
       "  </thead>\n",
       "  <tbody>\n",
       "    <tr>\n",
       "      <th>4674</th>\n",
       "      <td>489825</td>\n",
       "      <td>22076</td>\n",
       "      <td>6 RIBBONS EMPIRE</td>\n",
       "      <td>12</td>\n",
       "      <td>2009-12-02 13:34:00</td>\n",
       "      <td>0.0</td>\n",
       "      <td>16126.0</td>\n",
       "      <td>United Kingdom</td>\n",
       "    </tr>\n",
       "    <tr>\n",
       "      <th>6781</th>\n",
       "      <td>489998</td>\n",
       "      <td>48185</td>\n",
       "      <td>DOOR MAT FAIRY CAKE</td>\n",
       "      <td>2</td>\n",
       "      <td>2009-12-03 11:19:00</td>\n",
       "      <td>0.0</td>\n",
       "      <td>15658.0</td>\n",
       "      <td>United Kingdom</td>\n",
       "    </tr>\n",
       "    <tr>\n",
       "      <th>16107</th>\n",
       "      <td>490727</td>\n",
       "      <td>M</td>\n",
       "      <td>Manual</td>\n",
       "      <td>1</td>\n",
       "      <td>2009-12-07 16:38:00</td>\n",
       "      <td>0.0</td>\n",
       "      <td>17231.0</td>\n",
       "      <td>United Kingdom</td>\n",
       "    </tr>\n",
       "    <tr>\n",
       "      <th>18738</th>\n",
       "      <td>490961</td>\n",
       "      <td>22065</td>\n",
       "      <td>CHRISTMAS PUDDING TRINKET POT</td>\n",
       "      <td>1</td>\n",
       "      <td>2009-12-08 15:25:00</td>\n",
       "      <td>0.0</td>\n",
       "      <td>14108.0</td>\n",
       "      <td>United Kingdom</td>\n",
       "    </tr>\n",
       "    <tr>\n",
       "      <th>18739</th>\n",
       "      <td>490961</td>\n",
       "      <td>22142</td>\n",
       "      <td>CHRISTMAS CRAFT WHITE FAIRY</td>\n",
       "      <td>12</td>\n",
       "      <td>2009-12-08 15:25:00</td>\n",
       "      <td>0.0</td>\n",
       "      <td>14108.0</td>\n",
       "      <td>United Kingdom</td>\n",
       "    </tr>\n",
       "    <tr>\n",
       "      <th>...</th>\n",
       "      <td>...</td>\n",
       "      <td>...</td>\n",
       "      <td>...</td>\n",
       "      <td>...</td>\n",
       "      <td>...</td>\n",
       "      <td>...</td>\n",
       "      <td>...</td>\n",
       "      <td>...</td>\n",
       "    </tr>\n",
       "    <tr>\n",
       "      <th>1004540</th>\n",
       "      <td>577129</td>\n",
       "      <td>22464</td>\n",
       "      <td>HANGING METAL HEART LANTERN</td>\n",
       "      <td>4</td>\n",
       "      <td>2011-11-17 19:52:00</td>\n",
       "      <td>0.0</td>\n",
       "      <td>15602.0</td>\n",
       "      <td>United Kingdom</td>\n",
       "    </tr>\n",
       "    <tr>\n",
       "      <th>1005014</th>\n",
       "      <td>577168</td>\n",
       "      <td>M</td>\n",
       "      <td>Manual</td>\n",
       "      <td>1</td>\n",
       "      <td>2011-11-18 10:42:00</td>\n",
       "      <td>0.0</td>\n",
       "      <td>12603.0</td>\n",
       "      <td>Germany</td>\n",
       "    </tr>\n",
       "    <tr>\n",
       "      <th>1006110</th>\n",
       "      <td>577314</td>\n",
       "      <td>23407</td>\n",
       "      <td>SET OF 2 TRAYS HOME SWEET HOME</td>\n",
       "      <td>2</td>\n",
       "      <td>2011-11-18 13:23:00</td>\n",
       "      <td>0.0</td>\n",
       "      <td>12444.0</td>\n",
       "      <td>Norway</td>\n",
       "    </tr>\n",
       "    <tr>\n",
       "      <th>1011446</th>\n",
       "      <td>577696</td>\n",
       "      <td>M</td>\n",
       "      <td>Manual</td>\n",
       "      <td>1</td>\n",
       "      <td>2011-11-21 11:57:00</td>\n",
       "      <td>0.0</td>\n",
       "      <td>16406.0</td>\n",
       "      <td>United Kingdom</td>\n",
       "    </tr>\n",
       "    <tr>\n",
       "      <th>1027583</th>\n",
       "      <td>578841</td>\n",
       "      <td>84826</td>\n",
       "      <td>ASSTD DESIGN 3D PAPER STICKERS</td>\n",
       "      <td>12540</td>\n",
       "      <td>2011-11-25 15:57:00</td>\n",
       "      <td>0.0</td>\n",
       "      <td>13256.0</td>\n",
       "      <td>United Kingdom</td>\n",
       "    </tr>\n",
       "  </tbody>\n",
       "</table>\n",
       "<p>71 rows × 8 columns</p>\n",
       "</div>"
      ],
      "text/plain": [
       "        Invoice StockCode                     Description  Quantity  \\\n",
       "4674     489825     22076              6 RIBBONS EMPIRE          12   \n",
       "6781     489998     48185             DOOR MAT FAIRY CAKE         2   \n",
       "16107    490727         M                          Manual         1   \n",
       "18738    490961     22065  CHRISTMAS PUDDING TRINKET POT          1   \n",
       "18739    490961     22142    CHRISTMAS CRAFT WHITE FAIRY         12   \n",
       "...         ...       ...                             ...       ...   \n",
       "1004540  577129     22464     HANGING METAL HEART LANTERN         4   \n",
       "1005014  577168         M                          Manual         1   \n",
       "1006110  577314     23407  SET OF 2 TRAYS HOME SWEET HOME         2   \n",
       "1011446  577696         M                          Manual         1   \n",
       "1027583  578841     84826  ASSTD DESIGN 3D PAPER STICKERS     12540   \n",
       "\n",
       "                 InvoiceDate  Price  Customer ID         Country  \n",
       "4674     2009-12-02 13:34:00    0.0      16126.0  United Kingdom  \n",
       "6781     2009-12-03 11:19:00    0.0      15658.0  United Kingdom  \n",
       "16107    2009-12-07 16:38:00    0.0      17231.0  United Kingdom  \n",
       "18738    2009-12-08 15:25:00    0.0      14108.0  United Kingdom  \n",
       "18739    2009-12-08 15:25:00    0.0      14108.0  United Kingdom  \n",
       "...                      ...    ...          ...             ...  \n",
       "1004540  2011-11-17 19:52:00    0.0      15602.0  United Kingdom  \n",
       "1005014  2011-11-18 10:42:00    0.0      12603.0         Germany  \n",
       "1006110  2011-11-18 13:23:00    0.0      12444.0          Norway  \n",
       "1011446  2011-11-21 11:57:00    0.0      16406.0  United Kingdom  \n",
       "1027583  2011-11-25 15:57:00    0.0      13256.0  United Kingdom  \n",
       "\n",
       "[71 rows x 8 columns]"
      ]
     },
     "execution_count": 14,
     "metadata": {},
     "output_type": "execute_result"
    }
   ],
   "source": [
    "df.iloc[zeros.values]"
   ]
  },
  {
   "cell_type": "markdown",
   "metadata": {
    "id": "SMaWPDAVYskj"
   },
   "source": [
    "It can be seen that Quantity has 18,744 negative values which represent cancelled orders. Moreover, Price has 71 zero values. In addition, if Invoice (unique number of each transaction) starts with the letter C, it indicates a cancelattion.\n",
    "\n",
    "Later in the analysis I will use Quantity and Price to create new variables; hence, I will remove those negative values and zero values from Quantity and Price respectively. "
   ]
  },
  {
   "cell_type": "code",
   "execution_count": 15,
   "metadata": {
    "id": "fKGvKmSIfMDJ"
   },
   "outputs": [],
   "source": [
    "# Remove negative values from Quantity\n",
    "df_2 = df\n",
    "#df[df[\"Quantity\"] < 0] = 0\n",
    "df_2 = df_2[~df_2[\"Invoice\"].str.contains(\"C\", na = False)]\n",
    "\n",
    "# Remove zero values from Price\n",
    "df_2 = df_2.loc[~(df_2 == 0).any(axis=1)]"
   ]
  },
  {
   "cell_type": "code",
   "execution_count": 16,
   "metadata": {},
   "outputs": [
    {
     "data": {
      "text/html": [
       "<div>\n",
       "<style scoped>\n",
       "    .dataframe tbody tr th:only-of-type {\n",
       "        vertical-align: middle;\n",
       "    }\n",
       "\n",
       "    .dataframe tbody tr th {\n",
       "        vertical-align: top;\n",
       "    }\n",
       "\n",
       "    .dataframe thead th {\n",
       "        text-align: right;\n",
       "    }\n",
       "</style>\n",
       "<table border=\"1\" class=\"dataframe\">\n",
       "  <thead>\n",
       "    <tr style=\"text-align: right;\">\n",
       "      <th></th>\n",
       "      <th>Quantity</th>\n",
       "      <th>Price</th>\n",
       "      <th>Customer ID</th>\n",
       "    </tr>\n",
       "  </thead>\n",
       "  <tbody>\n",
       "    <tr>\n",
       "      <th>count</th>\n",
       "      <td>805549.000000</td>\n",
       "      <td>805549.000000</td>\n",
       "      <td>805549.000000</td>\n",
       "    </tr>\n",
       "    <tr>\n",
       "      <th>mean</th>\n",
       "      <td>13.290522</td>\n",
       "      <td>3.206561</td>\n",
       "      <td>15331.954970</td>\n",
       "    </tr>\n",
       "    <tr>\n",
       "      <th>std</th>\n",
       "      <td>143.634088</td>\n",
       "      <td>29.199173</td>\n",
       "      <td>1696.737039</td>\n",
       "    </tr>\n",
       "    <tr>\n",
       "      <th>min</th>\n",
       "      <td>1.000000</td>\n",
       "      <td>0.001000</td>\n",
       "      <td>12346.000000</td>\n",
       "    </tr>\n",
       "    <tr>\n",
       "      <th>25%</th>\n",
       "      <td>2.000000</td>\n",
       "      <td>1.250000</td>\n",
       "      <td>13982.000000</td>\n",
       "    </tr>\n",
       "    <tr>\n",
       "      <th>50%</th>\n",
       "      <td>5.000000</td>\n",
       "      <td>1.950000</td>\n",
       "      <td>15271.000000</td>\n",
       "    </tr>\n",
       "    <tr>\n",
       "      <th>75%</th>\n",
       "      <td>12.000000</td>\n",
       "      <td>3.750000</td>\n",
       "      <td>16805.000000</td>\n",
       "    </tr>\n",
       "    <tr>\n",
       "      <th>max</th>\n",
       "      <td>80995.000000</td>\n",
       "      <td>10953.500000</td>\n",
       "      <td>18287.000000</td>\n",
       "    </tr>\n",
       "  </tbody>\n",
       "</table>\n",
       "</div>"
      ],
      "text/plain": [
       "            Quantity          Price    Customer ID\n",
       "count  805549.000000  805549.000000  805549.000000\n",
       "mean       13.290522       3.206561   15331.954970\n",
       "std       143.634088      29.199173    1696.737039\n",
       "min         1.000000       0.001000   12346.000000\n",
       "25%         2.000000       1.250000   13982.000000\n",
       "50%         5.000000       1.950000   15271.000000\n",
       "75%        12.000000       3.750000   16805.000000\n",
       "max     80995.000000   10953.500000   18287.000000"
      ]
     },
     "execution_count": 16,
     "metadata": {},
     "output_type": "execute_result"
    }
   ],
   "source": [
    "df_2.describe()"
   ]
  },
  {
   "cell_type": "markdown",
   "metadata": {
    "id": "TyM3NmYLsvXm"
   },
   "source": [
    "### **Feature Engineering**\n",
    "\n",
    "In this final step of Exploratory Data Analysis (EDA), I will create new features from the existing ones."
   ]
  },
  {
   "cell_type": "markdown",
   "metadata": {
    "id": "2X3agWqa0i_e"
   },
   "source": [
    "**Recency, Frequency, Monetary Value (RFM)**\n",
    "\n",
    "Recency, frequency, monetary value is a marketing analysis tool used to identify a firm's best clients, based on the nature of their spending habits. The RFM model is based on three quantitative factors:\n",
    "\n",
    "**1. Recency:** How recently a customer has made a purchase\n",
    "\n",
    "**2. Frequency:** How often a customer makes a purchase\n",
    "\n",
    "**3. Monetary Value:** How much money a customer spends on purchases\n",
    "\n",
    "**Consequently, I will segment the customers based on RFM so that the company can target its customers efficiently.**"
   ]
  },
  {
   "cell_type": "markdown",
   "metadata": {
    "id": "9J1PugsLtXNj"
   },
   "source": [
    "**Recency**\n",
    "\n",
    "In order to find the recency value of each customer, we need to determine the last invoice date as the current date and subtract the last purchasing date of each customer from this date."
   ]
  },
  {
   "cell_type": "code",
   "execution_count": 17,
   "metadata": {},
   "outputs": [
    {
     "data": {
      "text/html": [
       "<div>\n",
       "<style scoped>\n",
       "    .dataframe tbody tr th:only-of-type {\n",
       "        vertical-align: middle;\n",
       "    }\n",
       "\n",
       "    .dataframe tbody tr th {\n",
       "        vertical-align: top;\n",
       "    }\n",
       "\n",
       "    .dataframe thead th {\n",
       "        text-align: right;\n",
       "    }\n",
       "</style>\n",
       "<table border=\"1\" class=\"dataframe\">\n",
       "  <thead>\n",
       "    <tr style=\"text-align: right;\">\n",
       "      <th></th>\n",
       "      <th>Invoice</th>\n",
       "      <th>StockCode</th>\n",
       "      <th>Description</th>\n",
       "      <th>Quantity</th>\n",
       "      <th>InvoiceDate</th>\n",
       "      <th>Price</th>\n",
       "      <th>Customer ID</th>\n",
       "      <th>Country</th>\n",
       "    </tr>\n",
       "  </thead>\n",
       "  <tbody>\n",
       "    <tr>\n",
       "      <th>0</th>\n",
       "      <td>489434</td>\n",
       "      <td>85048</td>\n",
       "      <td>15CM CHRISTMAS GLASS BALL 20 LIGHTS</td>\n",
       "      <td>12</td>\n",
       "      <td>2009-12-01 07:45:00</td>\n",
       "      <td>6.95</td>\n",
       "      <td>13085.0</td>\n",
       "      <td>United Kingdom</td>\n",
       "    </tr>\n",
       "    <tr>\n",
       "      <th>1</th>\n",
       "      <td>489434</td>\n",
       "      <td>79323P</td>\n",
       "      <td>PINK CHERRY LIGHTS</td>\n",
       "      <td>12</td>\n",
       "      <td>2009-12-01 07:45:00</td>\n",
       "      <td>6.75</td>\n",
       "      <td>13085.0</td>\n",
       "      <td>United Kingdom</td>\n",
       "    </tr>\n",
       "    <tr>\n",
       "      <th>2</th>\n",
       "      <td>489434</td>\n",
       "      <td>79323W</td>\n",
       "      <td>WHITE CHERRY LIGHTS</td>\n",
       "      <td>12</td>\n",
       "      <td>2009-12-01 07:45:00</td>\n",
       "      <td>6.75</td>\n",
       "      <td>13085.0</td>\n",
       "      <td>United Kingdom</td>\n",
       "    </tr>\n",
       "  </tbody>\n",
       "</table>\n",
       "</div>"
      ],
      "text/plain": [
       "  Invoice StockCode                          Description  Quantity  \\\n",
       "0  489434     85048  15CM CHRISTMAS GLASS BALL 20 LIGHTS        12   \n",
       "1  489434    79323P                   PINK CHERRY LIGHTS        12   \n",
       "2  489434    79323W                  WHITE CHERRY LIGHTS        12   \n",
       "\n",
       "           InvoiceDate  Price  Customer ID         Country  \n",
       "0  2009-12-01 07:45:00   6.95      13085.0  United Kingdom  \n",
       "1  2009-12-01 07:45:00   6.75      13085.0  United Kingdom  \n",
       "2  2009-12-01 07:45:00   6.75      13085.0  United Kingdom  "
      ]
     },
     "execution_count": 17,
     "metadata": {},
     "output_type": "execute_result"
    }
   ],
   "source": [
    "df_2.head(3)"
   ]
  },
  {
   "cell_type": "code",
   "execution_count": 18,
   "metadata": {
    "id": "iPCwHf3grFHH"
   },
   "outputs": [],
   "source": [
    "# Convert InvoiceDate column to date format\n",
    "df_2['InvoiceDate'] = pd.to_datetime(df_2['InvoiceDate'], format='%Y-%m-%d %H:%M:%S')\n"
   ]
  },
  {
   "cell_type": "code",
   "execution_count": 19,
   "metadata": {
    "colab": {
     "base_uri": "https://localhost:8080/",
     "height": 195
    },
    "id": "A3HnMzRt0YnX",
    "outputId": "1412c379-494b-47aa-d2c7-591cf91446ab"
   },
   "outputs": [
    {
     "data": {
      "text/html": [
       "<div>\n",
       "<style scoped>\n",
       "    .dataframe tbody tr th:only-of-type {\n",
       "        vertical-align: middle;\n",
       "    }\n",
       "\n",
       "    .dataframe tbody tr th {\n",
       "        vertical-align: top;\n",
       "    }\n",
       "\n",
       "    .dataframe thead th {\n",
       "        text-align: right;\n",
       "    }\n",
       "</style>\n",
       "<table border=\"1\" class=\"dataframe\">\n",
       "  <thead>\n",
       "    <tr style=\"text-align: right;\">\n",
       "      <th></th>\n",
       "      <th>Customer ID</th>\n",
       "      <th>Recency</th>\n",
       "    </tr>\n",
       "  </thead>\n",
       "  <tbody>\n",
       "    <tr>\n",
       "      <th>0</th>\n",
       "      <td>12346.0</td>\n",
       "      <td>325 days 02:49:00</td>\n",
       "    </tr>\n",
       "    <tr>\n",
       "      <th>1</th>\n",
       "      <td>12347.0</td>\n",
       "      <td>1 days 20:58:00</td>\n",
       "    </tr>\n",
       "    <tr>\n",
       "      <th>2</th>\n",
       "      <td>12348.0</td>\n",
       "      <td>74 days 23:37:00</td>\n",
       "    </tr>\n",
       "    <tr>\n",
       "      <th>3</th>\n",
       "      <td>12349.0</td>\n",
       "      <td>18 days 02:59:00</td>\n",
       "    </tr>\n",
       "    <tr>\n",
       "      <th>4</th>\n",
       "      <td>12350.0</td>\n",
       "      <td>309 days 20:49:00</td>\n",
       "    </tr>\n",
       "  </tbody>\n",
       "</table>\n",
       "</div>"
      ],
      "text/plain": [
       "   Customer ID           Recency\n",
       "0      12346.0 325 days 02:49:00\n",
       "1      12347.0   1 days 20:58:00\n",
       "2      12348.0  74 days 23:37:00\n",
       "3      12349.0  18 days 02:59:00\n",
       "4      12350.0 309 days 20:49:00"
      ]
     },
     "execution_count": 19,
     "metadata": {},
     "output_type": "execute_result"
    }
   ],
   "source": [
    "# Determine the last invoice date\n",
    "final = df_2['InvoiceDate'].max()\n",
    "\n",
    "# Subtract the last purchasing date of each customer from the last invoice date\n",
    "df_2['Recency'] = final - df_2['InvoiceDate']\n",
    "\n",
    "df_recency = df_2.groupby(df_2['Customer ID']).min()['Recency']\n",
    "df_recency = pd.DataFrame(df_recency).reset_index()\n",
    "df_recency.head()\n",
    "\n",
    "\n"
   ]
  },
  {
   "cell_type": "markdown",
   "metadata": {
    "id": "6LMLTPmpqH3Y"
   },
   "source": [
    "**Frequency**\n",
    "\n",
    "In order to find the frequency value of each customer, we need to determine how many times the customers make purchases."
   ]
  },
  {
   "cell_type": "code",
   "execution_count": 20,
   "metadata": {
    "colab": {
     "base_uri": "https://localhost:8080/",
     "height": 195
    },
    "id": "ZIVC6jqGo3Bx",
    "outputId": "0ff03366-40d8-46ec-bb5d-8e60a273073b"
   },
   "outputs": [
    {
     "data": {
      "text/html": [
       "<div>\n",
       "<style scoped>\n",
       "    .dataframe tbody tr th:only-of-type {\n",
       "        vertical-align: middle;\n",
       "    }\n",
       "\n",
       "    .dataframe tbody tr th {\n",
       "        vertical-align: top;\n",
       "    }\n",
       "\n",
       "    .dataframe thead th {\n",
       "        text-align: right;\n",
       "    }\n",
       "</style>\n",
       "<table border=\"1\" class=\"dataframe\">\n",
       "  <thead>\n",
       "    <tr style=\"text-align: right;\">\n",
       "      <th></th>\n",
       "      <th>Customer ID</th>\n",
       "      <th>Invoice</th>\n",
       "    </tr>\n",
       "  </thead>\n",
       "  <tbody>\n",
       "    <tr>\n",
       "      <th>0</th>\n",
       "      <td>12346.0</td>\n",
       "      <td>34</td>\n",
       "    </tr>\n",
       "    <tr>\n",
       "      <th>1</th>\n",
       "      <td>12347.0</td>\n",
       "      <td>253</td>\n",
       "    </tr>\n",
       "    <tr>\n",
       "      <th>2</th>\n",
       "      <td>12348.0</td>\n",
       "      <td>51</td>\n",
       "    </tr>\n",
       "    <tr>\n",
       "      <th>3</th>\n",
       "      <td>12349.0</td>\n",
       "      <td>175</td>\n",
       "    </tr>\n",
       "    <tr>\n",
       "      <th>4</th>\n",
       "      <td>12350.0</td>\n",
       "      <td>17</td>\n",
       "    </tr>\n",
       "  </tbody>\n",
       "</table>\n",
       "</div>"
      ],
      "text/plain": [
       "   Customer ID  Invoice\n",
       "0      12346.0       34\n",
       "1      12347.0      253\n",
       "2      12348.0       51\n",
       "3      12349.0      175\n",
       "4      12350.0       17"
      ]
     },
     "execution_count": 20,
     "metadata": {},
     "output_type": "execute_result"
    }
   ],
   "source": [
    "transactions = df_2['Invoice'].groupby(df_2['Customer ID']).count()\n",
    "\n",
    "df_frequency = pd.DataFrame(transactions).reset_index()\n",
    "df_frequency.head()"
   ]
  },
  {
   "cell_type": "markdown",
   "metadata": {
    "id": "kpp1uZfTsLL2"
   },
   "source": [
    "**Monetary Value**\n",
    "\n",
    "In order to find the monetary value of each customer, we need to determine how much do the customers spend on purchases."
   ]
  },
  {
   "cell_type": "code",
   "execution_count": 21,
   "metadata": {
    "colab": {
     "base_uri": "https://localhost:8080/",
     "height": 195
    },
    "id": "b18OXizUqjqJ",
    "outputId": "6041d448-7e9b-456f-bf3d-b89e333034dc"
   },
   "outputs": [
    {
     "data": {
      "text/html": [
       "<div>\n",
       "<style scoped>\n",
       "    .dataframe tbody tr th:only-of-type {\n",
       "        vertical-align: middle;\n",
       "    }\n",
       "\n",
       "    .dataframe tbody tr th {\n",
       "        vertical-align: top;\n",
       "    }\n",
       "\n",
       "    .dataframe thead th {\n",
       "        text-align: right;\n",
       "    }\n",
       "</style>\n",
       "<table border=\"1\" class=\"dataframe\">\n",
       "  <thead>\n",
       "    <tr style=\"text-align: right;\">\n",
       "      <th></th>\n",
       "      <th>Customer ID</th>\n",
       "      <th>Monetary Value</th>\n",
       "    </tr>\n",
       "  </thead>\n",
       "  <tbody>\n",
       "    <tr>\n",
       "      <th>0</th>\n",
       "      <td>12346.0</td>\n",
       "      <td>77556.46</td>\n",
       "    </tr>\n",
       "    <tr>\n",
       "      <th>1</th>\n",
       "      <td>12347.0</td>\n",
       "      <td>5633.32</td>\n",
       "    </tr>\n",
       "    <tr>\n",
       "      <th>2</th>\n",
       "      <td>12348.0</td>\n",
       "      <td>2019.40</td>\n",
       "    </tr>\n",
       "    <tr>\n",
       "      <th>3</th>\n",
       "      <td>12349.0</td>\n",
       "      <td>4428.69</td>\n",
       "    </tr>\n",
       "    <tr>\n",
       "      <th>4</th>\n",
       "      <td>12350.0</td>\n",
       "      <td>334.40</td>\n",
       "    </tr>\n",
       "  </tbody>\n",
       "</table>\n",
       "</div>"
      ],
      "text/plain": [
       "   Customer ID  Monetary Value\n",
       "0      12346.0        77556.46\n",
       "1      12347.0         5633.32\n",
       "2      12348.0         2019.40\n",
       "3      12349.0         4428.69\n",
       "4      12350.0          334.40"
      ]
     },
     "execution_count": 21,
     "metadata": {},
     "output_type": "execute_result"
    }
   ],
   "source": [
    "df_2['Monetary Value']= df_2['Quantity'] * df_2['Price']\n",
    "\n",
    "df_monetary = df_2['Monetary Value'].groupby(df_2['Customer ID']).sum()\n",
    "df_monetary = pd.DataFrame(df_monetary).reset_index()\n",
    "df_monetary.head()"
   ]
  },
  {
   "cell_type": "code",
   "execution_count": 22,
   "metadata": {
    "id": "s_Vg1A4KsysL"
   },
   "outputs": [],
   "source": [
    "# Merge Recency, Monetary Value and Frequency\n",
    "df_new = pd.merge(df_recency, df_frequency, how='inner', on='Customer ID')\n",
    "\n",
    "df_new = pd.merge(df_new, df_monetary, how=\"inner\", on=\"Customer ID\")"
   ]
  },
  {
   "cell_type": "code",
   "execution_count": 23,
   "metadata": {
    "colab": {
     "base_uri": "https://localhost:8080/"
    },
    "id": "nkDnsYtatSRh",
    "outputId": "ff33d5df-2c26-4566-e413-d9bebcf8c949"
   },
   "outputs": [
    {
     "name": "stdout",
     "output_type": "stream",
     "text": [
      "<class 'pandas.core.frame.DataFrame'>\n",
      "Int64Index: 5878 entries, 0 to 5877\n",
      "Data columns (total 4 columns):\n",
      " #   Column          Non-Null Count  Dtype          \n",
      "---  ------          --------------  -----          \n",
      " 0   Customer ID     5878 non-null   float64        \n",
      " 1   Recency         5878 non-null   timedelta64[ns]\n",
      " 2   Invoice         5878 non-null   int64          \n",
      " 3   Monetary Value  5878 non-null   float64        \n",
      "dtypes: float64(2), int64(1), timedelta64[ns](1)\n",
      "memory usage: 229.6 KB\n"
     ]
    }
   ],
   "source": [
    "df_new.info()"
   ]
  },
  {
   "cell_type": "code",
   "execution_count": 24,
   "metadata": {
    "colab": {
     "base_uri": "https://localhost:8080/",
     "height": 195
    },
    "id": "JayqU-actUzX",
    "outputId": "36764481-4355-4e27-c8a3-553fa2b15280"
   },
   "outputs": [
    {
     "data": {
      "text/html": [
       "<div>\n",
       "<style scoped>\n",
       "    .dataframe tbody tr th:only-of-type {\n",
       "        vertical-align: middle;\n",
       "    }\n",
       "\n",
       "    .dataframe tbody tr th {\n",
       "        vertical-align: top;\n",
       "    }\n",
       "\n",
       "    .dataframe thead th {\n",
       "        text-align: right;\n",
       "    }\n",
       "</style>\n",
       "<table border=\"1\" class=\"dataframe\">\n",
       "  <thead>\n",
       "    <tr style=\"text-align: right;\">\n",
       "      <th></th>\n",
       "      <th>Customer ID</th>\n",
       "      <th>Recency</th>\n",
       "      <th>Invoice</th>\n",
       "      <th>Monetary Value</th>\n",
       "    </tr>\n",
       "  </thead>\n",
       "  <tbody>\n",
       "    <tr>\n",
       "      <th>0</th>\n",
       "      <td>12346.0</td>\n",
       "      <td>325 days 02:49:00</td>\n",
       "      <td>34</td>\n",
       "      <td>77556.46</td>\n",
       "    </tr>\n",
       "    <tr>\n",
       "      <th>1</th>\n",
       "      <td>12347.0</td>\n",
       "      <td>1 days 20:58:00</td>\n",
       "      <td>253</td>\n",
       "      <td>5633.32</td>\n",
       "    </tr>\n",
       "    <tr>\n",
       "      <th>2</th>\n",
       "      <td>12348.0</td>\n",
       "      <td>74 days 23:37:00</td>\n",
       "      <td>51</td>\n",
       "      <td>2019.40</td>\n",
       "    </tr>\n",
       "    <tr>\n",
       "      <th>3</th>\n",
       "      <td>12349.0</td>\n",
       "      <td>18 days 02:59:00</td>\n",
       "      <td>175</td>\n",
       "      <td>4428.69</td>\n",
       "    </tr>\n",
       "    <tr>\n",
       "      <th>4</th>\n",
       "      <td>12350.0</td>\n",
       "      <td>309 days 20:49:00</td>\n",
       "      <td>17</td>\n",
       "      <td>334.40</td>\n",
       "    </tr>\n",
       "  </tbody>\n",
       "</table>\n",
       "</div>"
      ],
      "text/plain": [
       "   Customer ID           Recency  Invoice  Monetary Value\n",
       "0      12346.0 325 days 02:49:00       34        77556.46\n",
       "1      12347.0   1 days 20:58:00      253         5633.32\n",
       "2      12348.0  74 days 23:37:00       51         2019.40\n",
       "3      12349.0  18 days 02:59:00      175         4428.69\n",
       "4      12350.0 309 days 20:49:00       17          334.40"
      ]
     },
     "execution_count": 24,
     "metadata": {},
     "output_type": "execute_result"
    }
   ],
   "source": [
    "df_new.head()"
   ]
  },
  {
   "cell_type": "code",
   "execution_count": 25,
   "metadata": {
    "colab": {
     "base_uri": "https://localhost:8080/",
     "height": 195
    },
    "id": "CWWBifYft0Fi",
    "outputId": "06ed62be-00c7-40c4-dca5-1d14ceca5839"
   },
   "outputs": [
    {
     "data": {
      "text/html": [
       "<div>\n",
       "<style scoped>\n",
       "    .dataframe tbody tr th:only-of-type {\n",
       "        vertical-align: middle;\n",
       "    }\n",
       "\n",
       "    .dataframe tbody tr th {\n",
       "        vertical-align: top;\n",
       "    }\n",
       "\n",
       "    .dataframe thead th {\n",
       "        text-align: right;\n",
       "    }\n",
       "</style>\n",
       "<table border=\"1\" class=\"dataframe\">\n",
       "  <thead>\n",
       "    <tr style=\"text-align: right;\">\n",
       "      <th></th>\n",
       "      <th>Customer ID</th>\n",
       "      <th>Recency</th>\n",
       "      <th>Frequency</th>\n",
       "      <th>Monetary Value</th>\n",
       "    </tr>\n",
       "  </thead>\n",
       "  <tbody>\n",
       "    <tr>\n",
       "      <th>0</th>\n",
       "      <td>12346.0</td>\n",
       "      <td>325</td>\n",
       "      <td>34</td>\n",
       "      <td>77556.46</td>\n",
       "    </tr>\n",
       "    <tr>\n",
       "      <th>1</th>\n",
       "      <td>12347.0</td>\n",
       "      <td>1</td>\n",
       "      <td>253</td>\n",
       "      <td>5633.32</td>\n",
       "    </tr>\n",
       "    <tr>\n",
       "      <th>2</th>\n",
       "      <td>12348.0</td>\n",
       "      <td>74</td>\n",
       "      <td>51</td>\n",
       "      <td>2019.40</td>\n",
       "    </tr>\n",
       "    <tr>\n",
       "      <th>3</th>\n",
       "      <td>12349.0</td>\n",
       "      <td>18</td>\n",
       "      <td>175</td>\n",
       "      <td>4428.69</td>\n",
       "    </tr>\n",
       "    <tr>\n",
       "      <th>4</th>\n",
       "      <td>12350.0</td>\n",
       "      <td>309</td>\n",
       "      <td>17</td>\n",
       "      <td>334.40</td>\n",
       "    </tr>\n",
       "  </tbody>\n",
       "</table>\n",
       "</div>"
      ],
      "text/plain": [
       "   Customer ID  Recency  Frequency  Monetary Value\n",
       "0      12346.0      325         34        77556.46\n",
       "1      12347.0        1        253         5633.32\n",
       "2      12348.0       74         51         2019.40\n",
       "3      12349.0       18        175         4428.69\n",
       "4      12350.0      309         17          334.40"
      ]
     },
     "execution_count": 25,
     "metadata": {},
     "output_type": "execute_result"
    }
   ],
   "source": [
    "# Display only days on Recency column\n",
    "df_new['Recency'] = df_new['Recency'].dt.days\n",
    "\n",
    "# Set Frequency name on dataframe\n",
    "df_new = df_new.rename(columns={\"Invoice\" : \"Frequency\"})\n",
    "\n",
    "df_new.head()"
   ]
  },
  {
   "cell_type": "code",
   "execution_count": 26,
   "metadata": {
    "colab": {
     "base_uri": "https://localhost:8080/",
     "height": 809
    },
    "id": "xhKxiOqzuYXk",
    "outputId": "328fbd7c-1ffd-4587-82fe-7b6a8d1cf6d5"
   },
   "outputs": [
    {
     "data": {
      "image/png": "[encoded data removed]",
      "text/plain": [
       "<Figure size 432x288 with 1 Axes>"
      ]
     },
     "metadata": {
      "needs_background": "light"
     },
     "output_type": "display_data"
    },
    {
     "data": {
      "image/png": "[encoded data removed]",
      "text/plain": [
       "<Figure size 432x288 with 1 Axes>"
      ]
     },
     "metadata": {
      "needs_background": "light"
     },
     "output_type": "display_data"
    },
    {
     "data": {
      "image/png": "[encoded data removed]",
      "text/plain": [
       "<Figure size 432x288 with 1 Axes>"
      ]
     },
     "metadata": {
      "needs_background": "light"
     },
     "output_type": "display_data"
    }
   ],
   "source": [
    "# Univariate visualization of the variables \n",
    "# to get a sense of their distribution\n",
    "\n",
    "# Plot Histograms of the variables\n",
    "plt.hist(df_new[\"Recency\"])\n",
    "plt.title(\"Histogram of Recency\")\n",
    "plt.show()\n",
    "\n",
    "plt.hist(df_new[\"Frequency\"])\n",
    "plt.title(\"Histogram of Frequency\")\n",
    "plt.show()\n",
    "\n",
    "plt.hist(df_new[\"Monetary Value\"])\n",
    "plt.title(\"Histogram of Monetary Value\")\n",
    "plt.show()"
   ]
  },
  {
   "cell_type": "markdown",
   "metadata": {
    "id": "fCuP_0SWyntx"
   },
   "source": [
    "The output shows that the variables are not normally distributed. The histograms depict highly skewed distributions (positively skewed). The values that lie at extreme ends of the graphs are potential outliers.\n",
    "\n",
    "Hence, we can see that there are potential outliers on the right side of the range of the data for Frequency and Monetary Value. "
   ]
  },
  {
   "cell_type": "code",
   "execution_count": 27,
   "metadata": {
    "colab": {
     "base_uri": "https://localhost:8080/",
     "height": 809
    },
    "id": "3LWKMIPpviiy",
    "outputId": "ce27b9da-32d5-42ec-ebaf-37091d250e6b"
   },
   "outputs": [
    {
     "data": {
      "image/png": "[encoded data removed]",
      "text/plain": [
       "<Figure size 432x288 with 1 Axes>"
      ]
     },
     "metadata": {
      "needs_background": "light"
     },
     "output_type": "display_data"
    },
    {
     "data": {
      "image/png": "[encoded data removed]",
      "text/plain": [
       "<Figure size 432x288 with 1 Axes>"
      ]
     },
     "metadata": {
      "needs_background": "light"
     },
     "output_type": "display_data"
    },
    {
     "data": {
      "image/png": "[encoded data removed]",
      "text/plain": [
       "<Figure size 432x288 with 1 Axes>"
      ]
     },
     "metadata": {
      "needs_background": "light"
     },
     "output_type": "display_data"
    }
   ],
   "source": [
    "# Visually detect outliers with boxplots\n",
    "plt.boxplot(df_new[\"Recency\"])\n",
    "plt.title(\"Box plot of Recency (whis=1.5)\")\n",
    "plt.show()\n",
    "\n",
    "plt.boxplot(df_new[\"Frequency\"])\n",
    "plt.title(\"Box plot of Frequency (whis=1.5)\")\n",
    "plt.show()\n",
    "\n",
    "plt.boxplot(df_new[\"Monetary Value\"])\n",
    "plt.title(\"Box plot of Monetary Value (whis=1.5)\")\n",
    "plt.show()\n"
   ]
  },
  {
   "cell_type": "markdown",
   "metadata": {
    "id": "WB27tGgIyWxT"
   },
   "source": [
    "From the boxplots it can be seen that Frequency and Monetary Value have outliers. Outliers can be problematic because they can affect the results of an analysis."
   ]
  },
  {
   "cell_type": "markdown",
   "metadata": {},
   "source": [
    "To address the issue of normality, I will first transform the distribution of values in the dataset using Log Transformation. "
   ]
  },
  {
   "cell_type": "code",
   "execution_count": 28,
   "metadata": {},
   "outputs": [],
   "source": [
    "# Perform Log Transformation\n",
    "df_log = np.log(df_new+1)"
   ]
  },
  {
   "cell_type": "code",
   "execution_count": 29,
   "metadata": {
    "scrolled": true
   },
   "outputs": [
    {
     "data": {
      "text/html": [
       "<div>\n",
       "<style scoped>\n",
       "    .dataframe tbody tr th:only-of-type {\n",
       "        vertical-align: middle;\n",
       "    }\n",
       "\n",
       "    .dataframe tbody tr th {\n",
       "        vertical-align: top;\n",
       "    }\n",
       "\n",
       "    .dataframe thead th {\n",
       "        text-align: right;\n",
       "    }\n",
       "</style>\n",
       "<table border=\"1\" class=\"dataframe\">\n",
       "  <thead>\n",
       "    <tr style=\"text-align: right;\">\n",
       "      <th></th>\n",
       "      <th>Customer ID</th>\n",
       "      <th>Recency</th>\n",
       "      <th>Frequency</th>\n",
       "      <th>Monetary Value</th>\n",
       "    </tr>\n",
       "  </thead>\n",
       "  <tbody>\n",
       "    <tr>\n",
       "      <th>0</th>\n",
       "      <td>9.421168</td>\n",
       "      <td>5.786897</td>\n",
       "      <td>3.555348</td>\n",
       "      <td>11.258774</td>\n",
       "    </tr>\n",
       "    <tr>\n",
       "      <th>1</th>\n",
       "      <td>9.421249</td>\n",
       "      <td>0.693147</td>\n",
       "      <td>5.537334</td>\n",
       "      <td>8.636632</td>\n",
       "    </tr>\n",
       "    <tr>\n",
       "      <th>2</th>\n",
       "      <td>9.421330</td>\n",
       "      <td>4.317488</td>\n",
       "      <td>3.951244</td>\n",
       "      <td>7.611051</td>\n",
       "    </tr>\n",
       "    <tr>\n",
       "      <th>3</th>\n",
       "      <td>9.421411</td>\n",
       "      <td>2.944439</td>\n",
       "      <td>5.170484</td>\n",
       "      <td>8.396085</td>\n",
       "    </tr>\n",
       "    <tr>\n",
       "      <th>4</th>\n",
       "      <td>9.421492</td>\n",
       "      <td>5.736572</td>\n",
       "      <td>2.890372</td>\n",
       "      <td>5.815324</td>\n",
       "    </tr>\n",
       "  </tbody>\n",
       "</table>\n",
       "</div>"
      ],
      "text/plain": [
       "   Customer ID   Recency  Frequency  Monetary Value\n",
       "0     9.421168  5.786897   3.555348       11.258774\n",
       "1     9.421249  0.693147   5.537334        8.636632\n",
       "2     9.421330  4.317488   3.951244        7.611051\n",
       "3     9.421411  2.944439   5.170484        8.396085\n",
       "4     9.421492  5.736572   2.890372        5.815324"
      ]
     },
     "execution_count": 29,
     "metadata": {},
     "output_type": "execute_result"
    }
   ],
   "source": [
    "df_log.head()"
   ]
  },
  {
   "cell_type": "code",
   "execution_count": 30,
   "metadata": {},
   "outputs": [
    {
     "data": {
      "image/png": "[encoded data removed]",
      "text/plain": [
       "<Figure size 432x288 with 1 Axes>"
      ]
     },
     "metadata": {
      "needs_background": "light"
     },
     "output_type": "display_data"
    },
    {
     "data": {
      "image/png": "[encoded data removed]",
      "text/plain": [
       "<Figure size 432x288 with 1 Axes>"
      ]
     },
     "metadata": {
      "needs_background": "light"
     },
     "output_type": "display_data"
    },
    {
     "data": {
      "image/png": "[encoded data removed]",
      "text/plain": [
       "<Figure size 432x288 with 1 Axes>"
      ]
     },
     "metadata": {
      "needs_background": "light"
     },
     "output_type": "display_data"
    }
   ],
   "source": [
    "# Plot Histograms of the log transformed variables\n",
    "\n",
    "plt.hist(df_log[\"Recency\"])\n",
    "plt.title(\"Histogram of Recency\")\n",
    "plt.show()\n",
    "\n",
    "plt.hist(df_log[\"Frequency\"])\n",
    "plt.title(\"Histogram of Frequency\")\n",
    "plt.show()\n",
    "\n",
    "plt.hist(df_log[\"Monetary Value\"])\n",
    "plt.title(\"Histogram of Monetary Value\")\n",
    "plt.show()"
   ]
  },
  {
   "cell_type": "code",
   "execution_count": 31,
   "metadata": {},
   "outputs": [
    {
     "data": {
      "image/png": "[encoded data removed]",
      "text/plain": [
       "<Figure size 432x288 with 1 Axes>"
      ]
     },
     "metadata": {
      "needs_background": "light"
     },
     "output_type": "display_data"
    },
    {
     "data": {
      "image/png": "[encoded data removed]",
      "text/plain": [
       "<Figure size 432x288 with 1 Axes>"
      ]
     },
     "metadata": {
      "needs_background": "light"
     },
     "output_type": "display_data"
    },
    {
     "data": {
      "image/png": "[encoded data removed]",
      "text/plain": [
       "<Figure size 432x288 with 1 Axes>"
      ]
     },
     "metadata": {
      "needs_background": "light"
     },
     "output_type": "display_data"
    }
   ],
   "source": [
    "# Make box plots of the variables\n",
    "plt.boxplot(df_log[\"Recency\"])\n",
    "plt.title(\"Box plot of Recency (whis=1.5)\")\n",
    "plt.show()\n",
    "\n",
    "plt.boxplot(df_log[\"Frequency\"])\n",
    "plt.title(\"Box plot of Frequency (whis=1.5)\")\n",
    "plt.show()\n",
    "\n",
    "plt.boxplot(df_log[\"Monetary Value\"])\n",
    "plt.title(\"Box plot of Monetary Value (whis=1.5)\")\n",
    "plt.show()"
   ]
  },
  {
   "cell_type": "markdown",
   "metadata": {},
   "source": [
    "We can see how the log-transformed distribution is more normally distributed compared to the original distribution. The distributions are not a perfect bell shape but they are closer to a normal distribution than the original distribution. "
   ]
  },
  {
   "cell_type": "markdown",
   "metadata": {},
   "source": [
    "**Handling Outliers**\n",
    "\n",
    "We will first identify outliers using z-scores. A z-score tells us how many standard deviations a given value is from the mean. We could define an observation to be an outlier if it has a z-score less than -3 or greater than 3.\n",
    "\n",
    "Outliers = Observations with z-scores > 3 or < -3\n",
    "\n",
    "Once I identify outliers, I will remove them from the dataset. "
   ]
  },
  {
   "cell_type": "code",
   "execution_count": 32,
   "metadata": {},
   "outputs": [
    {
     "data": {
      "text/plain": [
       "(5840, 4)"
      ]
     },
     "execution_count": 32,
     "metadata": {},
     "output_type": "execute_result"
    }
   ],
   "source": [
    "# Find absolute value of z-score for each observation\n",
    "z = np.abs(stats.zscore(df_log))\n",
    "\n",
    "# Only keep rows in dataframe with all z-scores less than absolute value of 3 \n",
    "data_clean = df_log[(z<3).all(axis=1)]\n",
    "\n",
    "# Find how many rows are left in the dataframe \n",
    "data_clean.shape\n"
   ]
  },
  {
   "cell_type": "code",
   "execution_count": 33,
   "metadata": {},
   "outputs": [
    {
     "data": {
      "image/png": "[encoded data removed]",
      "text/plain": [
       "<Figure size 432x288 with 1 Axes>"
      ]
     },
     "metadata": {
      "needs_background": "light"
     },
     "output_type": "display_data"
    },
    {
     "data": {
      "image/png": "[encoded data removed]",
      "text/plain": [
       "<Figure size 432x288 with 1 Axes>"
      ]
     },
     "metadata": {
      "needs_background": "light"
     },
     "output_type": "display_data"
    },
    {
     "data": {
      "image/png": "[encoded data removed]",
      "text/plain": [
       "<Figure size 432x288 with 1 Axes>"
      ]
     },
     "metadata": {
      "needs_background": "light"
     },
     "output_type": "display_data"
    }
   ],
   "source": [
    "plt.boxplot(data_clean[\"Recency\"])\n",
    "plt.title(\"Box plot of Recency (whis=1.5)\")\n",
    "plt.show()\n",
    "\n",
    "plt.boxplot(data_clean[\"Frequency\"])\n",
    "plt.title(\"Box plot of Frequency (whis=1.5)\")\n",
    "plt.show()\n",
    "\n",
    "plt.boxplot(data_clean[\"Monetary Value\"])\n",
    "plt.title(\"Box plot of Monetary Value (whis=1.5)\")\n",
    "plt.show()"
   ]
  },
  {
   "cell_type": "markdown",
   "metadata": {
    "id": "zCrTWwCLzAlg"
   },
   "source": [
    "<!-- **Treating Outliers** -->"
   ]
  },
  {
   "cell_type": "markdown",
   "metadata": {
    "id": "dAhRnWE-JrcS"
   },
   "source": [
    "### **Modelling**\n",
    "\n",
    "I will apply K-Means clustering to group similar observations (customers) based on the RFM model. "
   ]
  },
  {
   "cell_type": "code",
   "execution_count": 34,
   "metadata": {},
   "outputs": [
    {
     "data": {
      "text/html": [
       "<div>\n",
       "<style scoped>\n",
       "    .dataframe tbody tr th:only-of-type {\n",
       "        vertical-align: middle;\n",
       "    }\n",
       "\n",
       "    .dataframe tbody tr th {\n",
       "        vertical-align: top;\n",
       "    }\n",
       "\n",
       "    .dataframe thead th {\n",
       "        text-align: right;\n",
       "    }\n",
       "</style>\n",
       "<table border=\"1\" class=\"dataframe\">\n",
       "  <thead>\n",
       "    <tr style=\"text-align: right;\">\n",
       "      <th></th>\n",
       "      <th>Customer ID</th>\n",
       "      <th>Recency</th>\n",
       "      <th>Frequency</th>\n",
       "      <th>Monetary Value</th>\n",
       "    </tr>\n",
       "  </thead>\n",
       "  <tbody>\n",
       "    <tr>\n",
       "      <th>1</th>\n",
       "      <td>9.421249</td>\n",
       "      <td>0.693147</td>\n",
       "      <td>5.537334</td>\n",
       "      <td>8.636632</td>\n",
       "    </tr>\n",
       "    <tr>\n",
       "      <th>2</th>\n",
       "      <td>9.421330</td>\n",
       "      <td>4.317488</td>\n",
       "      <td>3.951244</td>\n",
       "      <td>7.611051</td>\n",
       "    </tr>\n",
       "    <tr>\n",
       "      <th>3</th>\n",
       "      <td>9.421411</td>\n",
       "      <td>2.944439</td>\n",
       "      <td>5.170484</td>\n",
       "      <td>8.396085</td>\n",
       "    </tr>\n",
       "    <tr>\n",
       "      <th>4</th>\n",
       "      <td>9.421492</td>\n",
       "      <td>5.736572</td>\n",
       "      <td>2.890372</td>\n",
       "      <td>5.815324</td>\n",
       "    </tr>\n",
       "    <tr>\n",
       "      <th>5</th>\n",
       "      <td>9.421573</td>\n",
       "      <td>5.926926</td>\n",
       "      <td>3.091042</td>\n",
       "      <td>5.710195</td>\n",
       "    </tr>\n",
       "  </tbody>\n",
       "</table>\n",
       "</div>"
      ],
      "text/plain": [
       "   Customer ID   Recency  Frequency  Monetary Value\n",
       "1     9.421249  0.693147   5.537334        8.636632\n",
       "2     9.421330  4.317488   3.951244        7.611051\n",
       "3     9.421411  2.944439   5.170484        8.396085\n",
       "4     9.421492  5.736572   2.890372        5.815324\n",
       "5     9.421573  5.926926   3.091042        5.710195"
      ]
     },
     "execution_count": 34,
     "metadata": {},
     "output_type": "execute_result"
    }
   ],
   "source": [
    "data_clean.head()"
   ]
  },
  {
   "cell_type": "code",
   "execution_count": 35,
   "metadata": {},
   "outputs": [
    {
     "name": "stderr",
     "output_type": "stream",
     "text": [
      "C:\\Users\\asoma\\AppData\\Local\\Temp/ipykernel_15368/2078657981.py:1: FutureWarning: In a future version of pandas all arguments of DataFrame.drop except for the argument 'labels' will be keyword-only\n",
      "  df_model = data_clean.drop([\"Customer ID\"], 1)\n"
     ]
    },
    {
     "data": {
      "text/html": [
       "<div>\n",
       "<style scoped>\n",
       "    .dataframe tbody tr th:only-of-type {\n",
       "        vertical-align: middle;\n",
       "    }\n",
       "\n",
       "    .dataframe tbody tr th {\n",
       "        vertical-align: top;\n",
       "    }\n",
       "\n",
       "    .dataframe thead th {\n",
       "        text-align: right;\n",
       "    }\n",
       "</style>\n",
       "<table border=\"1\" class=\"dataframe\">\n",
       "  <thead>\n",
       "    <tr style=\"text-align: right;\">\n",
       "      <th></th>\n",
       "      <th>Recency</th>\n",
       "      <th>Frequency</th>\n",
       "      <th>Monetary Value</th>\n",
       "    </tr>\n",
       "  </thead>\n",
       "  <tbody>\n",
       "    <tr>\n",
       "      <th>1</th>\n",
       "      <td>0.693147</td>\n",
       "      <td>5.537334</td>\n",
       "      <td>8.636632</td>\n",
       "    </tr>\n",
       "    <tr>\n",
       "      <th>2</th>\n",
       "      <td>4.317488</td>\n",
       "      <td>3.951244</td>\n",
       "      <td>7.611051</td>\n",
       "    </tr>\n",
       "    <tr>\n",
       "      <th>3</th>\n",
       "      <td>2.944439</td>\n",
       "      <td>5.170484</td>\n",
       "      <td>8.396085</td>\n",
       "    </tr>\n",
       "    <tr>\n",
       "      <th>4</th>\n",
       "      <td>5.736572</td>\n",
       "      <td>2.890372</td>\n",
       "      <td>5.815324</td>\n",
       "    </tr>\n",
       "    <tr>\n",
       "      <th>5</th>\n",
       "      <td>5.926926</td>\n",
       "      <td>3.091042</td>\n",
       "      <td>5.710195</td>\n",
       "    </tr>\n",
       "  </tbody>\n",
       "</table>\n",
       "</div>"
      ],
      "text/plain": [
       "    Recency  Frequency  Monetary Value\n",
       "1  0.693147   5.537334        8.636632\n",
       "2  4.317488   3.951244        7.611051\n",
       "3  2.944439   5.170484        8.396085\n",
       "4  5.736572   2.890372        5.815324\n",
       "5  5.926926   3.091042        5.710195"
      ]
     },
     "execution_count": 35,
     "metadata": {},
     "output_type": "execute_result"
    }
   ],
   "source": [
    "df_model = data_clean.drop([\"Customer ID\"], 1)\n",
    "\n",
    "df_model.head()"
   ]
  },
  {
   "cell_type": "code",
   "execution_count": 36,
   "metadata": {
    "scrolled": true
   },
   "outputs": [
    {
     "name": "stdout",
     "output_type": "stream",
     "text": [
      "[[-2.29157494  1.1461374   1.35926714]\n",
      " [-0.06168975 -0.03054045  0.59130098]\n",
      " [-0.9064618   0.87398107  1.17914303]\n",
      " [ 0.81140548 -0.81757277 -0.75335886]\n",
      " [ 0.92852111 -0.66870059 -0.83208034]]\n"
     ]
    }
   ],
   "source": [
    "# Create scaled DataFrame where each variable has mean of 0 and standard dev of 1\n",
    "scaled_df = StandardScaler().fit_transform(df_model)\n",
    "\n",
    "# View first five rows of scaled DataFrame\n",
    "print(scaled_df[:5])"
   ]
  },
  {
   "cell_type": "markdown",
   "metadata": {},
   "source": [
    "Note: We use scaling so that each variable has equal importance when fitting the k-means algorithm. Otherwise, the variables with the widest ranges would have too much influence."
   ]
  },
  {
   "cell_type": "markdown",
   "metadata": {
    "id": "67I9utWjKbCD"
   },
   "source": [
    "**Find the Optimal Number of Clusters**\n",
    "\n",
    "To perform k-means clustering in Python, we can use the KMeans function from the sklearn module.\n",
    "\n",
    "This function uses the following basic syntax:\n",
    "\n",
    "KMeans(init=’random’, n_clusters=8, n_init=10, random_state=None)\n",
    "\n",
    "where:\n",
    "\n",
    "    init: Controls the initialization technique.\n",
    "    \n",
    "    n_clusters: The number of clusters to place observations in.\n",
    "    \n",
    "    n_init: The number of initializations to perform. The default is to run the k-means algorithm 10 times and return the one with the lowest SSE.\n",
    "    \n",
    "    random_state: An integer value you can pick to make the results of the algorithm reproducible. \n",
    "\n",
    "The most important argument in this function is n_clusters, which specifies how many clusters to place the observations in.\n",
    "\n",
    "However, we don’t know beforehand how many clusters is optimal so we must create a plot that displays the number of clusters along with the SSE (sum of squared errors) of the model.\n",
    "\n",
    "Typically when we create this type of plot we look for an “elbow” where the sum of squares begins to “bend” or level off. This is typically the optimal number of clusters."
   ]
  },
  {
   "cell_type": "code",
   "execution_count": 37,
   "metadata": {},
   "outputs": [
    {
     "data": {
      "image/png": "[encoded data removed]",
      "text/plain": [
       "<Figure size 432x288 with 1 Axes>"
      ]
     },
     "metadata": {
      "needs_background": "light"
     },
     "output_type": "display_data"
    }
   ],
   "source": [
    "# Initialize kmeans parameters\n",
    "kmeans_kwargs = {\n",
    "    \"init\": \"random\",\n",
    "    \"n_init\": 10,\n",
    "    \"random_state\": 1,\n",
    "    }\n",
    "\n",
    "# Create list to hold SSE values for each k\n",
    "sse = []\n",
    "for k in range(1, 11):\n",
    "    kmeans = KMeans(n_clusters=k, **kmeans_kwargs)\n",
    "    kmeans.fit(scaled_df)\n",
    "    sse.append(kmeans.inertia_)\n",
    "    \n",
    "# Visualize results\n",
    "plt.plot(range(1, 11), sse)\n",
    "plt.xticks(range(1, 11))\n",
    "plt.xlabel(\"Number of Clusters\")\n",
    "plt.ylabel(\"SSE\")\n",
    "plt.show()"
   ]
  },
  {
   "cell_type": "markdown",
   "metadata": {},
   "source": [
    "In this plot it appears that there is an elbow or bend at k = 3 clusters. Thus, I will use 3 clusters when fitting the k-means clustering model. "
   ]
  },
  {
   "cell_type": "markdown",
   "metadata": {},
   "source": [
    "**Perform K-Means Clustering with Optimal K**"
   ]
  },
  {
   "cell_type": "code",
   "execution_count": 38,
   "metadata": {},
   "outputs": [
    {
     "data": {
      "text/plain": [
       "array([1, 2, 1, ..., 0, 2, 1])"
      ]
     },
     "execution_count": 38,
     "metadata": {},
     "output_type": "execute_result"
    }
   ],
   "source": [
    "# Instantiate the k-means class, using optimal number of clusters\n",
    "kmeans = KMeans(init=\"random\", n_clusters=3, n_init=10, random_state=1)\n",
    "\n",
    "# Fit k-means algorithm to data\n",
    "kmeans.fit(scaled_df)\n",
    "\n",
    "#view cluster assignments for each observation\n",
    "kmeans.labels_"
   ]
  },
  {
   "cell_type": "code",
   "execution_count": 39,
   "metadata": {
    "scrolled": true
   },
   "outputs": [
    {
     "name": "stderr",
     "output_type": "stream",
     "text": [
      "C:\\Users\\asoma\\AppData\\Local\\Temp/ipykernel_15368/1735227299.py:2: SettingWithCopyWarning: \n",
      "A value is trying to be set on a copy of a slice from a DataFrame.\n",
      "Try using .loc[row_indexer,col_indexer] = value instead\n",
      "\n",
      "See the caveats in the documentation: https://pandas.pydata.org/pandas-docs/stable/user_guide/indexing.html#returning-a-view-versus-a-copy\n",
      "  data_clean['Cluster'] = kmeans.labels_\n"
     ]
    }
   ],
   "source": [
    "# Append cluster assingments to original DataFrame\n",
    "data_clean['Cluster'] = kmeans.labels_"
   ]
  },
  {
   "cell_type": "code",
   "execution_count": 40,
   "metadata": {},
   "outputs": [
    {
     "data": {
      "text/html": [
       "<div>\n",
       "<style scoped>\n",
       "    .dataframe tbody tr th:only-of-type {\n",
       "        vertical-align: middle;\n",
       "    }\n",
       "\n",
       "    .dataframe tbody tr th {\n",
       "        vertical-align: top;\n",
       "    }\n",
       "\n",
       "    .dataframe thead th {\n",
       "        text-align: right;\n",
       "    }\n",
       "</style>\n",
       "<table border=\"1\" class=\"dataframe\">\n",
       "  <thead>\n",
       "    <tr style=\"text-align: right;\">\n",
       "      <th></th>\n",
       "      <th>Customer ID</th>\n",
       "      <th>Recency</th>\n",
       "      <th>Frequency</th>\n",
       "      <th>Monetary Value</th>\n",
       "      <th>Cluster</th>\n",
       "    </tr>\n",
       "  </thead>\n",
       "  <tbody>\n",
       "    <tr>\n",
       "      <th>1</th>\n",
       "      <td>9.421249</td>\n",
       "      <td>0.693147</td>\n",
       "      <td>5.537334</td>\n",
       "      <td>8.636632</td>\n",
       "      <td>1</td>\n",
       "    </tr>\n",
       "    <tr>\n",
       "      <th>2</th>\n",
       "      <td>9.421330</td>\n",
       "      <td>4.317488</td>\n",
       "      <td>3.951244</td>\n",
       "      <td>7.611051</td>\n",
       "      <td>2</td>\n",
       "    </tr>\n",
       "    <tr>\n",
       "      <th>3</th>\n",
       "      <td>9.421411</td>\n",
       "      <td>2.944439</td>\n",
       "      <td>5.170484</td>\n",
       "      <td>8.396085</td>\n",
       "      <td>1</td>\n",
       "    </tr>\n",
       "    <tr>\n",
       "      <th>4</th>\n",
       "      <td>9.421492</td>\n",
       "      <td>5.736572</td>\n",
       "      <td>2.890372</td>\n",
       "      <td>5.815324</td>\n",
       "      <td>0</td>\n",
       "    </tr>\n",
       "    <tr>\n",
       "      <th>5</th>\n",
       "      <td>9.421573</td>\n",
       "      <td>5.926926</td>\n",
       "      <td>3.091042</td>\n",
       "      <td>5.710195</td>\n",
       "      <td>0</td>\n",
       "    </tr>\n",
       "    <tr>\n",
       "      <th>6</th>\n",
       "      <td>9.421654</td>\n",
       "      <td>3.583519</td>\n",
       "      <td>4.644391</td>\n",
       "      <td>7.955369</td>\n",
       "      <td>1</td>\n",
       "    </tr>\n",
       "    <tr>\n",
       "      <th>7</th>\n",
       "      <td>9.421735</td>\n",
       "      <td>5.318120</td>\n",
       "      <td>3.218876</td>\n",
       "      <td>6.010679</td>\n",
       "      <td>0</td>\n",
       "    </tr>\n",
       "    <tr>\n",
       "      <th>8</th>\n",
       "      <td>9.421816</td>\n",
       "      <td>5.446737</td>\n",
       "      <td>4.077537</td>\n",
       "      <td>6.985087</td>\n",
       "      <td>2</td>\n",
       "    </tr>\n",
       "    <tr>\n",
       "      <th>9</th>\n",
       "      <td>9.421897</td>\n",
       "      <td>5.365976</td>\n",
       "      <td>3.583519</td>\n",
       "      <td>6.854998</td>\n",
       "      <td>2</td>\n",
       "    </tr>\n",
       "    <tr>\n",
       "      <th>10</th>\n",
       "      <td>9.421978</td>\n",
       "      <td>3.135494</td>\n",
       "      <td>4.969813</td>\n",
       "      <td>8.760089</td>\n",
       "      <td>1</td>\n",
       "    </tr>\n",
       "  </tbody>\n",
       "</table>\n",
       "</div>"
      ],
      "text/plain": [
       "    Customer ID   Recency  Frequency  Monetary Value  Cluster\n",
       "1      9.421249  0.693147   5.537334        8.636632        1\n",
       "2      9.421330  4.317488   3.951244        7.611051        2\n",
       "3      9.421411  2.944439   5.170484        8.396085        1\n",
       "4      9.421492  5.736572   2.890372        5.815324        0\n",
       "5      9.421573  5.926926   3.091042        5.710195        0\n",
       "6      9.421654  3.583519   4.644391        7.955369        1\n",
       "7      9.421735  5.318120   3.218876        6.010679        0\n",
       "8      9.421816  5.446737   4.077537        6.985087        2\n",
       "9      9.421897  5.365976   3.583519        6.854998        2\n",
       "10     9.421978  3.135494   4.969813        8.760089        1"
      ]
     },
     "execution_count": 40,
     "metadata": {},
     "output_type": "execute_result"
    }
   ],
   "source": [
    "# View updated DataFrame\n",
    "data_clean.head(10)"
   ]
  },
  {
   "cell_type": "markdown",
   "metadata": {},
   "source": [
    "The Cluster column contains a cluster number (0, 1, or 2) that each customer was assigned to.\n",
    "\n",
    "Customers that belong to the same cluster have roughly similar values for the Recency, Frequency, and Monetary Value columns."
   ]
  },
  {
   "cell_type": "markdown",
   "metadata": {},
   "source": [
    "\n",
    "---\n",
    "\n",
    "# **4. Results**"
   ]
  },
  {
   "cell_type": "code",
   "execution_count": 41,
   "metadata": {
    "scrolled": false
   },
   "outputs": [
    {
     "name": "stdout",
     "output_type": "stream",
     "text": [
      "3 clusters k-means\n"
     ]
    },
    {
     "data": {
      "image/png": "[encoded data removed]",
      "text/plain": [
       "<Figure size 432x288 with 1 Axes>"
      ]
     },
     "metadata": {
      "needs_background": "light"
     },
     "output_type": "display_data"
    },
    {
     "name": "stdout",
     "output_type": "stream",
     "text": [
      "Silhouette score for 3 clusters k-means: 0.3165480409465663\n"
     ]
    }
   ],
   "source": [
    "# Instantiate the k-means class, using optimal number of clusters\n",
    "k_means_3 = KMeans(init=\"random\", n_clusters=3, n_init=10, random_state=1).fit_predict(scaled_df)\n",
    "\n",
    "pca = PCA().fit_transform(scaled_df)\n",
    "\n",
    "# Plot the results\n",
    "print(\"3 clusters k-means\")\n",
    "plt.scatter(pca[:, 0], pca[:, 1], c=k_means_3)\n",
    "plt.show()\n",
    "\n",
    "# Calculate the silhouette coefficient score\n",
    "print(\"Silhouette score for 3 clusters k-means: {}\".format(metrics.silhouette_score(scaled_df, k_means_3, metric='euclidean')))"
   ]
  },
  {
   "cell_type": "markdown",
   "metadata": {},
   "source": [
    "From the plot it can be seen that the K-Means model identified three classes or groups of customers based on RFM.\n",
    "\n",
    "**One of those groups represent customers who have recently purchased from the company, buy more often and spend more. These customers are more likely to buy again; they are also likely to buy more often and spend more money.**"
   ]
  },
  {
   "cell_type": "markdown",
   "metadata": {},
   "source": [
    "**Compare results with different number of clusters (2,3,4 and 5)**"
   ]
  },
  {
   "cell_type": "code",
   "execution_count": 42,
   "metadata": {},
   "outputs": [
    {
     "name": "stdout",
     "output_type": "stream",
     "text": [
      "2 clusters k-means\n"
     ]
    },
    {
     "data": {
      "image/png": "[encoded data removed]",
      "text/plain": [
       "<Figure size 432x288 with 1 Axes>"
      ]
     },
     "metadata": {
      "needs_background": "light"
     },
     "output_type": "display_data"
    },
    {
     "name": "stdout",
     "output_type": "stream",
     "text": [
      "Silhouette score for 2 clusters k-means: 0.4122519138630476\n"
     ]
    }
   ],
   "source": [
    "# Instantiate the k-means class,\n",
    "k_means_2 = KMeans(init=\"random\", n_clusters=2, n_init=10, random_state=1).fit_predict(scaled_df)\n",
    "\n",
    "pca = PCA().fit_transform(scaled_df)\n",
    "\n",
    "# Plot the results\n",
    "print(\"2 clusters k-means\")\n",
    "plt.scatter(pca[:, 0], pca[:, 1], c=k_means_2)\n",
    "plt.show()\n",
    "\n",
    "# Calculate the silhouette coefficient score\n",
    "print(\"Silhouette score for 2 clusters k-means: {}\".format(metrics.silhouette_score(scaled_df, k_means_2, metric='euclidean')))"
   ]
  },
  {
   "cell_type": "code",
   "execution_count": 43,
   "metadata": {},
   "outputs": [
    {
     "name": "stdout",
     "output_type": "stream",
     "text": [
      "4 clusters k-means\n"
     ]
    },
    {
     "data": {
      "image/png": "[encoded data removed]",
      "text/plain": [
       "<Figure size 432x288 with 1 Axes>"
      ]
     },
     "metadata": {
      "needs_background": "light"
     },
     "output_type": "display_data"
    },
    {
     "name": "stdout",
     "output_type": "stream",
     "text": [
      "Silhouette score for 4 clusters k-means: 0.33491767982257664\n"
     ]
    }
   ],
   "source": [
    "# Instantiate the k-means class\n",
    "k_means_4 = KMeans(init=\"random\", n_clusters=4, n_init=10, random_state=1).fit_predict(scaled_df)\n",
    "\n",
    "pca = PCA().fit_transform(scaled_df)\n",
    "\n",
    "# Plot the results\n",
    "print(\"4 clusters k-means\")\n",
    "plt.scatter(pca[:, 0], pca[:, 1], c=k_means_4)\n",
    "plt.show()\n",
    "\n",
    "# Calculate the silhouette coefficient score\n",
    "print(\"Silhouette score for 4 clusters k-means: {}\".format(metrics.silhouette_score(scaled_df, k_means_4, metric='euclidean')))"
   ]
  },
  {
   "cell_type": "code",
   "execution_count": 44,
   "metadata": {},
   "outputs": [
    {
     "name": "stdout",
     "output_type": "stream",
     "text": [
      "5 clusters k-means\n"
     ]
    },
    {
     "data": {
      "image/png": "[encoded data removed]",
      "text/plain": [
       "<Figure size 432x288 with 1 Axes>"
      ]
     },
     "metadata": {
      "needs_background": "light"
     },
     "output_type": "display_data"
    },
    {
     "name": "stdout",
     "output_type": "stream",
     "text": [
      "Silhouette score for 5 clusters k-means: 0.2991861070800648\n"
     ]
    }
   ],
   "source": [
    "# Instantiate the k-means class\n",
    "k_means_5 = KMeans(init=\"random\", n_clusters=5, n_init=10, random_state=1).fit_predict(scaled_df)\n",
    "\n",
    "pca = PCA().fit_transform(scaled_df)\n",
    "\n",
    "# Plot the results\n",
    "print(\"5 clusters k-means\")\n",
    "plt.scatter(pca[:, 0], pca[:, 1], c=k_means_5)\n",
    "plt.show()\n",
    "\n",
    "# Calculate the silhouette coefficient score\n",
    "print(\"Silhouette score for 5 clusters k-means: {}\".format(metrics.silhouette_score(scaled_df, k_means_5, metric='euclidean')))"
   ]
  },
  {
   "cell_type": "markdown",
   "metadata": {
    "id": "Xvsxa3XDhjs7"
   },
   "source": [
    "\n",
    "---\n",
    "\n",
    "# **5. Discussion & Recomendations**\n",
    "\n",
    "From a marketing perspective, companies need to understand the characteristics and preferences of their best customers because they should target their marketing efforts towards prospects who resemble their best costumers’ characteristics. But, before they can start to understand their best customers, they first need to identify them. Therefore, from this unsupervised learning analysis, interested parties will be able to segment a customer pool and identify the best customers.\n",
    "\n",
    "Once they have identified their customers based on their purchasing behavior (RFM); they could start to analyze the characteristics and purchasing behavior of this group and try to understand what distinguishes them from typical customers. As a result, understanding their customers will help them become more precise in targeting actual and potential customers.\n",
    "\n",
    "The next steps I would take to expand this analysis would be to predict which customers are more likely to make purchases again in the future. I would use the available consumer spending data to estimate future behavior. This approach can be used by businesses to improve their marketing plan and target potential customers. \n",
    "\n",
    "\n",
    "\n"
   ]
  },
  {
   "cell_type": "markdown",
   "metadata": {
    "id": "CTMo6aQHs5bc"
   },
   "source": [
    "\n",
    "---\n",
    "\n",
    "# **References**\n",
    "\n",
    "1. https://www.kaggle.com/mashlyn/online-retail-ii-uci\n",
    "2. https://www.investopedia.com/terms/r/rfm-recency-frequency-monetary-value.asp\n",
    "3. https://www.investopedia.com/terms/b/behavioral-modeling.asp"
   ]
  }
 ],
 "metadata": {
  "colab": {
   "collapsed_sections": [],
   "provenance": []
  },
  "kernelspec": {
   "display_name": "Python 3 (ipykernel)",
   "language": "python",
   "name": "python3"
  },
  "language_info": {
   "codemirror_mode": {
    "name": "ipython",
    "version": 3
   },
   "file_extension": ".py",
   "mimetype": "text/x-python",
   "name": "python",
   "nbconvert_exporter": "python",
   "pygments_lexer": "ipython3",
   "version": "3.9.7"
  }
 },
 "nbformat": 4,
 "nbformat_minor": 1
}
